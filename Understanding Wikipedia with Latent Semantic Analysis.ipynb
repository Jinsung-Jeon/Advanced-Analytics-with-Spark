{
 "cells": [
  {
   "cell_type": "code",
   "execution_count": 1,
   "metadata": {},
   "outputs": [
    {
     "name": "stdout",
     "output_type": "stream",
     "text": [
      "Starting download from file:/home/jovyan/aas/ch06-lsa/target/ch06-lsa-2.0.0-jar-with-dependencies.jar\n",
      "Finished download of ch06-lsa-2.0.0-jar-with-dependencies.jar\n"
     ]
    }
   ],
   "source": [
    "%AddJar file:/home/jovyan/aas/ch06-lsa/target/ch06-lsa-2.0.0-jar-with-dependencies.jar"
   ]
  },
  {
   "cell_type": "code",
   "execution_count": 2,
   "metadata": {},
   "outputs": [
    {
     "data": {
      "text/plain": [
       "spark = org.apache.spark.sql.SparkSession@32ae1ce3\n"
      ]
     },
     "metadata": {},
     "output_type": "display_data"
    },
    {
     "data": {
      "text/plain": [
       "i...\n"
      ]
     },
     "metadata": {},
     "output_type": "display_data"
    },
    {
     "data": {
      "text/html": [
       "<ul>\n",
       "<li><a href=\"Some(http://74107bd78b99:4040)\" target=\"new_tab\">Spark UI: local-1539613677795</a></li>\n",
       "</ul>"
      ],
      "text/plain": [
       "Spark local-1539613677795: Some(http://74107bd78b99:4040)"
      ]
     },
     "execution_count": 2,
     "metadata": {},
     "output_type": "execute_result"
    }
   ],
   "source": [
    "import edu.umd.cloud9.collection.XMLInputFormat\n",
    "import edu.stanford.nlp.ling.CoreAnnotations.{LemmaAnnotation, SentencesAnnotation, TokensAnnotation}\n",
    "import edu.stanford.nlp.pipeline.{Annotation, StanfordCoreNLP}\n",
    "import edu.umd.cloud9.collection.wikipedia.WikipediaPage\n",
    "import edu.umd.cloud9.collection.wikipedia.language.EnglishWikipediaPage\n",
    "import java.util.Properties\n",
    "\n",
    "import org.apache.hadoop.conf.Configuration\n",
    "import org.apache.hadoop.io.{LongWritable, Text}\n",
    "import org.apache.spark.ml.feature.{CountVectorizer, IDF}\n",
    "import org.apache.spark.sql.functions._\n",
    "import org.apache.spark.sql.{DataFrame, Dataset, SparkSession}\n",
    "\n",
    "import scala.collection.JavaConverters._\n",
    "import scala.collection.mutable.ArrayBuffer\n",
    "\n",
    "val spark = SparkSession.builder().getOrCreate()\n",
    "import spark.implicits._"
   ]
  },
  {
   "cell_type": "code",
   "execution_count": 5,
   "metadata": {},
   "outputs": [
    {
     "data": {
      "text/plain": [
       "path = Data/Wikipedia-Geometry.xml\n",
       "conf = Configuration: core-default.xml, core-site.xml, mapred-default.xml, mapred-site.xml, yarn-default.xml, yarn-site.xml, hdfs-default.xml, hdfs-site.xml\n",
       "kvs = Data/Wikipedia-Geometry.xml NewHadoopRDD[4] at newAPIHadoopFile at <console>:66\n",
       "rawXmls = [value: string]\n"
      ]
     },
     "metadata": {},
     "output_type": "display_data"
    },
    {
     "data": {
      "text/plain": [
       "[value: string]"
      ]
     },
     "execution_count": 5,
     "metadata": {},
     "output_type": "execute_result"
    }
   ],
   "source": [
    "val path = \"Data/Wikipedia-Geometry.xml\"\n",
    "@transient val conf = new Configuration()\n",
    "conf.set(XMLInputFormat.START_TAG_KEY, \"<page>\")\n",
    "conf.set(XMLInputFormat.END_TAG_KEY, \"</page>\")\n",
    "val kvs = spark.sparkContext.newAPIHadoopFile(path, classOf[XMLInputFormat],\n",
    "                                              classOf[LongWritable], classOf[Text], conf)\n",
    "val rawXmls = kvs.map(_._2.toString).toDS()"
   ]
  },
  {
   "cell_type": "code",
   "execution_count": 6,
   "metadata": {},
   "outputs": [
    {
     "name": "stdout",
     "output_type": "stream",
     "text": [
      "+--------------------+\n",
      "|               value|\n",
      "+--------------------+\n",
      "|<page>\n",
      "    <title...|\n",
      "|<page>\n",
      "    <title...|\n",
      "|<page>\n",
      "    <title...|\n",
      "|<page>\n",
      "    <title...|\n",
      "|<page>\n",
      "    <title...|\n",
      "|<page>\n",
      "    <title...|\n",
      "|<page>\n",
      "    <title...|\n",
      "|<page>\n",
      "    <title...|\n",
      "|<page>\n",
      "    <title...|\n",
      "|<page>\n",
      "    <title...|\n",
      "|<page>\n",
      "    <title...|\n",
      "|<page>\n",
      "    <title...|\n",
      "|<page>\n",
      "    <title...|\n",
      "|<page>\n",
      "    <title...|\n",
      "|<page>\n",
      "    <title...|\n",
      "|<page>\n",
      "    <title...|\n",
      "|<page>\n",
      "    <title...|\n",
      "|<page>\n",
      "    <title...|\n",
      "|<page>\n",
      "    <title...|\n",
      "|<page>\n",
      "    <title...|\n",
      "+--------------------+\n",
      "only showing top 20 rows\n",
      "\n"
     ]
    }
   ],
   "source": [
    "rawXmls.show"
   ]
  },
  {
   "cell_type": "code",
   "execution_count": 7,
   "metadata": {},
   "outputs": [
    {
     "data": {
      "text/plain": [
       "docTexts = [_1: string, _2: string]\n"
      ]
     },
     "metadata": {},
     "output_type": "display_data"
    },
    {
     "data": {
      "text/plain": [
       "wikiXmlToPlainText: (pageXml: String)Option[(String, String)]\n"
      ]
     },
     "metadata": {},
     "output_type": "display_data"
    },
    {
     "data": {
      "text/plain": [
       "[_1: string, _2: string]"
      ]
     },
     "execution_count": 7,
     "metadata": {},
     "output_type": "execute_result"
    }
   ],
   "source": [
    "def wikiXmlToPlainText(pageXml: String): Option[(String, String)] = {\n",
    "// Wikipedia has updated their dumps slightly since Cloud9 was written,\n",
    "// so this hacky replacement is sometimes required to get parsing to work.\n",
    "val hackedPageXml = pageXml.replaceFirst(\n",
    "\"<text xml:space=\\\"preserve\\\" bytes=\\\"\\\\d+\\\">\",\n",
    "\"<text xml:space=\\\"preserve\\\">\")\n",
    "val page = new EnglishWikipediaPage()\n",
    "WikipediaPage.readPage(page, hackedPageXml)\n",
    "if (page.isEmpty) None\n",
    "else Some((page.getTitle, page.getContent))\n",
    "}\n",
    "val docTexts = rawXmls.filter(_ != null).flatMap(wikiXmlToPlainText)"
   ]
  },
  {
   "cell_type": "code",
   "execution_count": 8,
   "metadata": {},
   "outputs": [
    {
     "name": "stdout",
     "output_type": "stream",
     "text": [
      "+--------------------+--------------------+\n",
      "|                  _1|                  _2|\n",
      "+--------------------+--------------------+\n",
      "|Category:Discrete...|Category:Discrete...|\n",
      "|Category:Incidenc...|Category:Incidenc...|\n",
      "|Category:Metric g...|Category:Metric g...|\n",
      "|Category:Integral...|Category:Integral...|\n",
      "|Category:Conforma...|Category:Conforma...|\n",
      "|Category:Trigonom...|Category:Trigonom...|\n",
      "|Category:Convex g...|Category:Convex g...|\n",
      "|             Coaxial|Coaxial\n",
      " \n",
      " \n",
      "\n",
      "In g...|\n",
      "|Category:Technica...|Category:Technica...|\n",
      "|   Category:Symmetry|Category:Symmetry...|\n",
      "|Category:Homogene...|Category:Homogene...|\n",
      "|       Ambient space|Ambient space\n",
      "An ...|\n",
      "|Category:Duality ...|Category:Duality ...|\n",
      "|          Superspace|Superspace\n",
      "Supers...|\n",
      "|     Geometry Center|Geometry Center\n",
      "T...|\n",
      "|          Dehn plane|Dehn plane\n",
      "In geo...|\n",
      "|Complex reflectio...|Complex reflectio...|\n",
      "|Category:Geometri...|Category:Geometri...|\n",
      "|    Lipschitz domain|Lipschitz domain\n",
      "...|\n",
      "|         Visual hull|Visual hull\n",
      " \n",
      "\n",
      "A ...|\n",
      "+--------------------+--------------------+\n",
      "only showing top 20 rows\n",
      "\n"
     ]
    }
   ],
   "source": [
    "docTexts.show"
   ]
  },
  {
   "cell_type": "code",
   "execution_count": 9,
   "metadata": {},
   "outputs": [
    {
     "data": {
      "text/plain": [
       "createNLPPipeline: ()edu.stanford.nlp.pipeline.StanfordCoreNLP\n",
       "isOnlyLetters: (str: String)Boolean\n",
       "plainTextToLemmas: (text: String, stopWords: Set[String], pipeline: edu.stanford.nlp.pipeline.StanfordCoreNLP)Seq[String]\n"
      ]
     },
     "metadata": {},
     "output_type": "display_data"
    }
   ],
   "source": [
    "def createNLPPipeline(): StanfordCoreNLP = {\n",
    "    val props = new Properties()\n",
    "    props.put(\"annotators\",\"tokenize, ssplit, pos, lemma\")\n",
    "    new StanfordCoreNLP(props)\n",
    "}\n",
    "\n",
    "def isOnlyLetters(str: String): Boolean = {\n",
    "    str.forall(c => Character.isLetter(c))\n",
    "}\n",
    "\n",
    "def plainTextToLemmas(text: String, stopWords: Set[String],\n",
    "    pipeline: StanfordCoreNLP): Seq[String] = {\n",
    "    val doc = new Annotation(text)\n",
    "    pipeline.annotate(doc)\n",
    "    \n",
    "    val lemmas = new ArrayBuffer[String]()\n",
    "    val sentences = doc.get(classOf[SentencesAnnotation])\n",
    "    for (sentence <- sentences.asScala;\n",
    "        token <- sentence.get(classOf[TokensAnnotation]).asScala){\n",
    "        val lemma = token.get(classOf[LemmaAnnotation])\n",
    "        if(lemma.length > 2 && !stopWords.contains(lemma)\n",
    "          && isOnlyLetters(lemma)){\n",
    "          lemmas += lemma.toLowerCase\n",
    "        }\n",
    "    }\n",
    "    lemmas\n",
    "}"
   ]
  },
  {
   "cell_type": "code",
   "execution_count": 10,
   "metadata": {},
   "outputs": [
    {
     "data": {
      "text/plain": [
       "stopWords = Set(down, it's, ourselves, that's, for, further, she'll, any, there's, this, haven't, in, ought, myself, have, your, off, once, i'll, are, is, his, why, too, why's, am, than, isn't, didn't, himself, but, you're, below, what, would, i'd, if, you'll, own, they'll, up, we're, they'd, so, our, do, all, him, had, nor, before, it, a, she's, as, hadn't, because, has, she, yours, or, above, yourself, herself, she'd, such, they, each, can't, don't, i, until, that, out, he's, cannot, to, we've, hers, you, did, let's, most, here, these, hasn't, was, there, when's, shan't, doing, at, through, been, over, i've, on, being, same, how, whom, my, after, who, itself, me, them, by, then, couldn't, he, should, few, wasn't, again, while, their, not, with, ...\n"
      ]
     },
     "metadata": {},
     "output_type": "display_data"
    },
    {
     "data": {
      "text/plain": [
       "Set(down, it's, ourselves, that's, for, further, she'll, any, there's, this, haven't, in, ought, myself, have, your, off, once, i'll, are, is, his, why, too, why's, am, than, isn't, didn't, himself, but, you're, below, what, would, i'd, if, you'll, own, they'll, up, we're, they'd, so, our, do, all, him, had, nor, before, it, a, she's, as, hadn't, because, has, she, yours, or, above, yourself, herself, she'd, such, they, each, can't, don't, i, until, that, out, he's, cannot, to, we've, hers, you, did, let's, most, here, these, hasn't, was, there, when's, shan't, doing, at, through, been, over, i've, on, being, same, how, whom, my, after, who, itself, me, them, by, then, couldn't, he, should, few, wasn't, again, while, their, not, with, from, you've, they've, what's, wouldn't, both, could, its, under, which, you'd, an, be, here's, into, where, he'll, her, themselves, were, more, we'd, where's, they're, who's, between, aren't, ours, about, doesn't, how's, against, during, no, very, we, having, mustn't, some, does, when, shouldn't, yourselves, he'd, other, of, weren't, and, won't, theirs, i'm, we'll, the, those, only)"
      ]
     },
     "execution_count": 10,
     "metadata": {},
     "output_type": "execute_result"
    }
   ],
   "source": [
    "val stopWords = scala.io.Source.fromFile(\"stopwords.txt\").getLines().toSet\n",
    "val bStopWords = spark.sparkContext.broadcast(stopWords)\n",
    "\n",
    "val terms: Dataset[(String, Seq[String])] = \n",
    " docTexts.mapPartitions { iter =>\n",
    "     val pipeline = createNLPPipeline()\n",
    "     iter.map { case(title, contents) =>\n",
    "        (title, plainTextToLemmas(contents, bStopWords.value, pipeline))\n",
    "     }\n",
    " }"
   ]
  },
  {
   "cell_type": "code",
   "execution_count": 11,
   "metadata": {},
   "outputs": [
    {
     "data": {
      "text/plain": [
       "termsDF = [title: string, terms: array<string>]\n"
      ]
     },
     "metadata": {},
     "output_type": "display_data"
    },
    {
     "data": {
      "text/plain": [
       "[title: string, terms: array<string>]"
      ]
     },
     "execution_count": 11,
     "metadata": {},
     "output_type": "execute_result"
    }
   ],
   "source": [
    "val termsDF = terms.toDF(\"title\",\"terms\")"
   ]
  },
  {
   "cell_type": "code",
   "execution_count": 12,
   "metadata": {},
   "outputs": [
    {
     "data": {
      "text/plain": [
       "filtered = [title: string, terms: array<string>]\n"
      ]
     },
     "metadata": {},
     "output_type": "display_data"
    },
    {
     "data": {
      "text/plain": [
       "[title: string, terms: array<string>]"
      ]
     },
     "execution_count": 12,
     "metadata": {},
     "output_type": "execute_result"
    }
   ],
   "source": [
    "val filtered = termsDF.where(size($\"terms\")>1)"
   ]
  },
  {
   "cell_type": "code",
   "execution_count": 13,
   "metadata": {},
   "outputs": [
    {
     "name": "stdout",
     "output_type": "stream",
     "text": [
      "Adding annotator tokenize\n",
      "TokenizerAnnotator: No tokenizer type provided. Defaulting to PTBTokenizer.\n",
      "Adding annotator ssplit\n",
      "edu.stanford.nlp.pipeline.AnnotatorImplementations:\n",
      "Adding annotator pos\n",
      "Reading POS tagger model from edu/stanford/nlp/models/pos-tagger/english-left3words/english-left3words-distsim.tagger ... done [3.4 sec].\n",
      "Adding annotator lemma\n",
      "+--------------------+--------------------+\n",
      "|               title|               terms|\n",
      "+--------------------+--------------------+\n",
      "|Category:Discrete...|[category, discre...|\n",
      "|Category:Incidenc...|[category, incide...|\n",
      "|Category:Metric g...|[category, metric...|\n",
      "|Category:Integral...|[category, integr...|\n",
      "|Category:Conforma...|[category, confor...|\n",
      "|Category:Trigonom...|[category, trigon...|\n",
      "|Category:Convex g...|[category, convex...|\n",
      "|             Coaxial|[coaxial, geometr...|\n",
      "|Category:Technica...|[category, techni...|\n",
      "|   Category:Symmetry|[category, symmetry]|\n",
      "|Category:Homogene...|[category, homoge...|\n",
      "|       Ambient space|[ambient, space, ...|\n",
      "|Category:Duality ...|[category, dualit...|\n",
      "|          Superspace|[superspace, supe...|\n",
      "|     Geometry Center|[geometry, center...|\n",
      "|          Dehn plane|[dehn, plane, geo...|\n",
      "|Complex reflectio...|[complex, reflect...|\n",
      "|Category:Geometri...|[category, geomet...|\n",
      "|    Lipschitz domain|[lipschitz, domai...|\n",
      "|         Visual hull|[visual, hull, vi...|\n",
      "+--------------------+--------------------+\n",
      "only showing top 20 rows\n",
      "\n"
     ]
    }
   ],
   "source": [
    "filtered.show"
   ]
  },
  {
   "cell_type": "code",
   "execution_count": 15,
   "metadata": {},
   "outputs": [
    {
     "name": "stdout",
     "output_type": "stream",
     "text": [
      "Adding annotator tokenize\n",
      "Adding annotator ssplit\n",
      "Adding annotator pos\n",
      "Adding annotator lemma\n"
     ]
    },
    {
     "data": {
      "text/plain": [
       "numTerms = 20000\n",
       "countVectorizer = cntVec_024dfea34f89\n",
       "vocabModel = cntVec_024dfea34f89\n",
       "docTermFreqs = [title: string, terms: array<string> ... 1 more field]\n"
      ]
     },
     "metadata": {},
     "output_type": "display_data"
    },
    {
     "data": {
      "text/plain": [
       "[title: string, terms: array<string> ... 1 more field]"
      ]
     },
     "execution_count": 15,
     "metadata": {},
     "output_type": "execute_result"
    }
   ],
   "source": [
    "val numTerms = 20000\n",
    "val countVectorizer = new CountVectorizer().\n",
    "    setInputCol(\"terms\").\n",
    "    setOutputCol(\"termFreqs\").\n",
    "    setVocabSize(numTerms)\n",
    "val vocabModel = countVectorizer.fit(filtered)\n",
    "val docTermFreqs = vocabModel.transform(filtered)"
   ]
  },
  {
   "cell_type": "code",
   "execution_count": 16,
   "metadata": {},
   "outputs": [
    {
     "data": {
      "text/plain": [
       "[title: string, terms: array<string> ... 1 more field]"
      ]
     },
     "execution_count": 16,
     "metadata": {},
     "output_type": "execute_result"
    }
   ],
   "source": [
    "docTermFreqs.cache()"
   ]
  },
  {
   "cell_type": "code",
   "execution_count": 18,
   "metadata": {},
   "outputs": [
    {
     "data": {
      "text/plain": [
       "idf = idf_e65f3f3b1f4d\n",
       "idfModel = idf_e65f3f3b1f4d\n",
       "docTermMatrix = [title: string, tfidfVec: vector]\n"
      ]
     },
     "metadata": {},
     "output_type": "display_data"
    },
    {
     "data": {
      "text/plain": [
       "lastException: Throwable = null\n"
      ]
     },
     "metadata": {},
     "output_type": "display_data"
    },
    {
     "data": {
      "text/plain": [
       "[title: string, tfidfVec: vector]"
      ]
     },
     "execution_count": 18,
     "metadata": {},
     "output_type": "execute_result"
    }
   ],
   "source": [
    "val idf = new IDF().\n",
    "    setInputCol(\"termFreqs\").\n",
    "    setOutputCol(\"tfidfVec\")\n",
    "val idfModel = idf.fit(docTermFreqs)\n",
    "val docTermMatrix = idfModel.transform(docTermFreqs).select(\"title\",\"tfidfVec\")"
   ]
  },
  {
   "cell_type": "code",
   "execution_count": 20,
   "metadata": {},
   "outputs": [
    {
     "data": {
      "text/plain": [
       "termIds = Array(point, geometry, space, line, plane, can, group, two, use, frac, one, mathcal, set, vector, also, surface, angle, shape, give, define, right, cdot, metric, function, coordinate, image, case, field, form, time, example, theory, method, parallel, mathbf, call, triangle, see, minkowski, axis, distance, problem, geodesic, circle, object, geometric, theorem, map, dimension, varphus, structure, number, area, base, partial, length, transformation, end, pattern, model, text, begin, first, follow, unit, phi, system, may, equation, term, measure, euclidean, computational, reference, order, curve, three, theta, figure, tangent, circ, leave, hyperbolic, study, definition, mathbb, volume, bmatrix, mathrm, include, symmetry, side, moir챕, take, anatomy, boundary, general...\n"
      ]
     },
     "metadata": {},
     "output_type": "display_data"
    },
    {
     "data": {
      "text/plain": [
       "[point, geometry, space, line, plane, can, group, two, use, frac, one, mathcal, set, vector, also, surface, angle, shape, give, define, right, cdot, metric, function, coordinate, image, case, field, form, time, example, theory, method, parallel, mathbf, call, triangle, see, minkowski, axis, distance, problem, geodesic, circle, object, geometric, theorem, map, dimension, varphus, structure, number, area, base, partial, length, transformation, end, pattern, model, text, begin, first, follow, unit, phi, system, may, equation, term, measure, euclidean, computational, reference, order, curve, three, theta, figure, tangent, circ, leave, hyperbolic, study, definition, mathbb, volume, bmatrix, mathrm, include, symmetry, side, moir챕, take, anatomy, boundary, general, show, different, manifold, flow, element, direction, since, construction, affine, layer, consider, describe, complex, every, contain, condition, left, vertical, sin, finite, real, analysis, let, lie, horizontal, draw, equal, doteq, square, axiom, action, mathematics, make, change, property, many, projective, thus, constant, dot, sphere, sum, reflection, delta, diffeomorphism, mathematical, value, know, spacetime, gamma, mean, result, algebraic, intersection, diagram, polygon, differential, represent, denote, rectangle, intersect, way, find, along, orbit, mapping, vertex, will, generate, solution, matrix, correspond, satisfy, product, move, topology, degree, omega, via, operatorname, center, determine, segment, within, rule, associate, second, well, align, hat, bound, lambda, link, special, work, particular, convex, lattice, rotation, diffeomorphic, index, subset, apply, radius, spatial, edge, hence, sqrt, construct, subdivision, linear, new, exist, century, whose, type, ray, riemannian, least, therefore, must, observer, relativity, generalize, similar, svg, template, algorithm, classical, random, origin, file, another, note, provide, graph, accord, fact, part, concept, snub, depend, common, ratio, principle, equivalent, limit, mark, event, large, infty, prime, however, box, calculate, possible, sequence, start, coxeter, four, light, tree, relation, close, regular, pass, solve, allow, ball, class, component, become, translation, continuous, assume, state, onto, prove, smooth, hour, often, momentum, hyperbola, cos, derive, require, int, laguerre, formulum, say, pair, algebra, tensor, factor, moment, now, diameter, dense, inverse, introduce, effect, unique, respect, perpendicular, application, variation, place, position, compute, basis, face, incidence, even, appear, scale, hold, flat, positive, category, local, matching, external, rho, mathfrak, datum, cross, small, interval, several, invariant, section, material, euler, relative, imaging, need, connect, obtain, less, imply, world, sigma, smallmatrix, hyperplane, proper, extend, instead, write, derivative, notion, straight, proof, dial, disk, single, frame, miller, psus, important, spherical, busemann, without, paper, name, deformation, view, match, context, physics, alpha, induce, corresponding, refer, infinite, varepsilon, act, cube, endpoint, generally, initial, information, consist, approach, preserve, representation, original, motion, inner, like, diff, measurement, reveal, log, zero, support, turn, add, closed, produce, tan, lddmm, lead, lorentz, fundamental, string, remain, sense, tend, discrete, overline, submanifold, complete, natural, period, normal, operation, simple, sheaf, approximate, idea, polynomial, hadamard, either, cycle, ring, projection, slimness, fold, poincar챕, eulerian, cell, cap, eta, medical, involve, necessary, hand, orientation, range, size, related, operator, velocity, speed, direct, cylinder, open, mid, topological, exactly, list, inclination, postulate, around, mesh, due, dimensional, technique, symbol, computer, notation, arbitrary, mass, synthetic, cartesian, fix, central, landmark, cover, minimum, usually, hilbert, orthogonal, cone, tiling, create, modern, various, path, true, variable, norm, always, exp, get, earth, develop, integral, rational, present, relate, process, collection, publish, standard, outside, pregeometry, beta, design, rightarrow, independent, higher, subject, m철bius, polyhedron, ell, certain, early, difference, identity, separate, latitude, geometrical, calculation, mathematician, arc, tau, lipschitz, cat, width, distinct, development, choose, express, str책hle, word, isometry, differentiable, integer, minimal, series, tile, argument, just, although, together, increase, inequality, scriptstyle, whether, instance, nature, euclid, history, upper, separator, great, probability, variety, reduce, cup, book, following, compass, curvature, page, isomorphic, root, characteristic, human, simply, quantum, uniform, smaller, divide, physical, art, university, odf, abstract, topic, quadrilateral, approximation, science, rather, homogeneous, anatomical, touch, search, location, variational, zone, lacunarity, analytic, though, density, yield, still, symmetric, long, acylindrically, homeomorphism, ellipse, conjugate, sometimes, near, subgroup, infinitely, negative, lemma, choice, binary, basic, crystal, article, statement, lower, correspondence, occur, demonstrate, ordinary, rotate, quantity, bar, tuning, locally, version, multiple, similarly, code, math, parametric, pythagorean, introduction, superposition, key, distribution, rank, identify, planar, superspace, defaultsort, lagrangian, statistical, greater, nablum, question, description, establish, solid, overlap, force, focus, setting, hamiltonian, third, polar, fractal, weight, cut, circular, calculus, bilinear, relationship, cavalieri, node, research, otherwise, level, centre, kernel, sign, min, optimal, extension, uniformly, enclose, estimate, statistics, half, parameter, stress, conjecture, circumcenter, reciprocal, law, region, rabatment, generalization, far, compare, pure, dual, old, press, foundation, tessellation, einstein, fixed, replace, connection, previous, full, references, quad, continuously, equivalence, angular, gromov, domain, arise, much, transform, control, conformal, come, purpose, bracket, observe, hatch, infinity, processing, smallest, school, branch, covariant, quadratic, addition, specific, discuss, concern, directly, account, suggest, curved, existence, energy, ellipsoid, universe, height, inertial, indicator, student, respectively, scalar, suppose, transverse, meet, combine, cosh, absolute, opposite, think, mechanic, approximately, maximum, tool, top, error, consequence, body, situation, inside, play, year, family, riemann, illustrate, infinitesimal, straightedge, cubic, remove, embedding, larger, geographical, canonical, chord, vec, particle, bottom, feature, thermodynamic, entire, polytope, discover, combinatorial, faggot, identical, reason, hk�꼻, graphic, singular, role, orient, isomorphism, step, langle, cost, jacobian, table, leq, understand, happen, lagrange, wave, dynamics, travel, timelike, geometer, means, formulation, available, quasisymmetric, lay, parametrization, diffeomorphometry, band, david, irreducible, inertia, attempt, especially, label, john, access, geographic, indicate, coefficient, digital, ambient, adjacent, alternative, decomposition, expression, simplicial, temp, instrument, check, younes, load, amplituhedron, hausdorff, functor, alternate, matter, linearly, primitive, transversality, temperament, actual, imaginary, rangle, indeed, iint, assumption, irregular, cyclic, cubinder, conic, look, ldot, modulus, program, composition, exponential, select, sound, signal, vary, griffith, earliest, regard, movement, differ, test, source, total, carry, parabola, minute, bind, building, formula, estimation, quadrant, influence, klein, diffusion, easily, visual, repeat, generator, span, apart, spinor, clock, pullback, displaystyle, might, cycloid, oval, useful, grid, signature, implicit, phenomenon, approx, subdivide, sine, quadric, array, necessarily, closure, fourth, across, mapsto, typically, meaning, subseteq, max, ideal, latter, musical, convention, gravity, game, hull, cradle, build, magnitude, pale, dihedral, setminus, mri, sobolev, dark, framework, radian, transparent, reading, middle, exterior, expand, suffice, better, isosceles, characterize, similarity, course, bold, optical, coin, modular, print, emerge, moreover, weyl, chart, octave, best, software, catenoid, back, cot, scheme, minimize, conway, bisector, visibility, global, celles, nonagon, engineering, rest, architecture, interpret, disjoint, cartan, thickness, independently, ensure, barbour, deformable, academy, configuration, pitch, secant, eigenvector, sacred, generalized, diagonal, practical, comparison, union, textstyle, contrast, free, vol, content, cent, plank, compact, reflect, slightly, sufficiently, later, almost, embed, gauss, geq, significant, supersymmetry, varifold, net, cannon, simplify, water, unknown, amplitude, arbitrarily, visualization, interaction, count, read, send, connected, versor, parallelism, guarantee, prior, english, proportional, coplanar, big, american, classify, run, invariance, fatness, abc, benz, brain, avoid, axiomatic, conservation, input, separable, member, population, tilde, except, target, schl채fli, terminology, red, upon, incident, join, incircle, dfrac, reconstruction, proportion, belong, twice, interpretation, high, screen, applied, parametrize, det, deduce, closely, towards, current, photon, actually, circumference, display, phase, argue, folding, restricted, kind, desire, magnetic, perform, bend, distinction, examine, animation, interior, discipline, hamilton, continue, geometrically, triple, revolution, cohomology, particularly, equivalently, deal, archimedes, life, additional, contravariant, meridian, super, mention, bigr, grassmann, shephard, experience, displacement, author, ancient, imagery, precise, interactive, individual, subspace, grow, average, aspect, dim, non, away, hole, share, derivation, morse, legendre, bedos, entirely, der, specify, precisely, grassmannian, structural, mbr, sup, break, originally, simultaneous, perimeter, organ, fermionic, faster, hexagonal, elementary, honeycomb, graphical, german, north, identification, detail, spacing, william, compression, cambridge, grenander, elliptic, hyperboloid, growth, transfer, usage, reach, already, newton, york, technology, society, radial, superfield, complement, among, blood, equichordal, grade, fat, largest, opaque, null, major, affect, column, profile, resonance, tfrac, short, dehn, valid, ock, explore, equilibrium, journal, treat, help, explicitly, iterative, sample, otime, numerical, employ, suitable, land, late, coincide, trivial, longitude, beg, spacelike, symplectic, familiar, perturbation, distribute, trigonometric, frequently, kinetic, formulate, leybourn, floyd, exploit, spiral, compactification, relativistic, encode, interest, computation, final, conversely, today, known, commonly, past, appropriate, trouve, trigonometry, logarithm, essential, annulus, trouv챕, analogous, cuboctahedron, sundial, organize, formally, copy, cause, multiplicity, vanish, locus, lecture, gravitational, resolution, completely, admit, advance, next, division, entity, multiply, auxiliary, regulus, bear, simplest, torus, whole, former, neighborhood, longer, discussion, background, mechanical, bolyai, artificial, vision, planet, contact, arithmetic, throughout, tension, observation, extra, counting, record, stirrup, gradient, automorphism, stockholm, atlas, piano, ruler, cotangent, essentially, greek, language, education, perp, periodically, five, scattering, registration, possibly, empty, wheeler, green, geomview, uniqueness, advantage, gaussian, schema, periodic, residue, latin, neighbor, fiber, wall, modeling, pillar, treatment, rogerson, practice, steiner, locate, notin, fifth, benedetti, accuracy, magnify, observable, scatter, contemporary, varphi, color, miquelian, france, smoothly, erlangen, scientific, dynamic, rely, parry, plate, truncate, pushforward, shortest, device, finitely, spread, odd, drawing, easy, intensity, simultaneously, optimization, accompany, equip, bst, oppose, ovoid, traditional, rod, french, enough, substitute, arrow, obtuse, quasigeodesic, corner, easier, salesman, instruction, procedure, trace, thing, spin, usual, analyze, regardless, dilation, reverse, concrete, internal, bravais, acylindrical, report, integrate, black, notice, exemplar, minus, slope, specifically, visible, outer, culture, lill, atla, technical, azimuth, discovery, pointer, distortion, consideration, rigid, congruence, asymptotic, l챕n찼rt, shift, partition, stretch, translate, constraint, convergence, theoretical, closest, explain, randomness, functional, located, equality, dagger, satisfied, slide, lobachevsky, arborally, museum, deform, equilateral, clear, specification, twistor, spec, triangular, stationary, clavichord, block, viewpoint, sinh, day, modify, scientist, proceed, printing, answer, international, player, octahedron, possibility, philosophy, attention, perspective, cur, impossible, martin, mathomat, formal, oxygen, sheet, freedom, div, downarrow, contraction, independence, whereas, cloud, equator, knot, publication, traction, claim, biconcave, supercharge, social, academic, assign, perhaps, galilean, hermann, seven, mamikon, homotopy, bayesian, machine, contribution, sector, kepler, spheroid, golden, sensor, disc, star, consistent, effectively, dti, clavius, gap, main, integration, arch, sufficient, last, tetrahedron, congruent, consequently, integrable, duality, roll, mirror, superimpose, perception, pyramid, objective, acute, incline, portion, teach, edition, f철r, finally, carl, strain, clifford, propose, von, segmentation, effort, furthermore, fluid, apparent, surround, navigation, spirit, manipulate, die, lollipop, pixel, fotheringham, accurate, chus, degenerate, survey, potential, maker, isometric, positioning, cylindrical, combination, diam, date, limitation, dynamical, geography, properties, cluster, exsphere, biological, strictly, frequency, depict, comprise, appearance, gnomon, opt, weakly, exhibit, fail, accept, everywhere, arclength, importance, embedded, style, pole, piece, unitary, morphome, kant, equinoctial, empirical, online, permutation, singularity, sun, bettini, versa, quasicrystal, homeomorphic, equally, beam, notes, fall, primary, 챕tale, issue, collinear, felix, the, enable, quotient, molecule, inclusion, immersion, visualize, maximize, fraction, understanding, sphericity, roughly, decimal, wide, elastic, interference, immediate, namely, simplicity, critical, plot, measurable, qquad, compress, 체rer, pairwise, celestial, unbounded, quasiregular, put, supersymmetric, arg, randomly, crystallography, plumb, stack, explanation, significantly, stewart, boost, double, music, analogue, stackrel, chapter, mathematically, bosonic, widely, register, britannica, pointwise, moon, subsequent, uniquely, parametrise, principal, separately, white, converge, foot, cosine, interpolation, sciences, marpurg, nevertheless, henri, emptyset, rectangular, boolean, automatically, virtual, evaluate, review, stereographic, vice, per, popular, agree, friedrich, constructible, reproduce, urban, fewer, coherent, epsilon, goal, speedup, hexagon, inf, restriction, skew, clockwise, requirement, reduction, literature, astronomy, letter, unlike, inversive, camera, coaxial, young, child, stage, peter, upward, prize, transversally, tangency, seem, pappus, enneagon, dependent, rise, michael, jpg, naturally, logical, weighted, morphology, asymptote, defect, classic, conclude, decompose, nontrivial, sci, sampling, west, investigation, experiment, radon, isogonal, apex, trapezoid, intercept, simpler, playfair, lowest, head, computing, miss, car, south, quite, bic, orthonormal, equatorial, intuitively, normalize, kappa, community, applicable, analog, ability, simulation, superimposition, precede, tarski, codimension, flatness, joshi, live, spline, jacob, subsequently, beyond, formalism, evaluation, transport, indivisible, scene, assertion, dartel, lca, scan, marker, module, axial, pmatrix, initially, median, solutions, crystallographic, fermat, truncation, assert, previously, instability, difficult, philosopher, combinatoric, earlier, temple, nicholson, classification, drop, textbook, papers, iii, explicit, tissue, college, helicoid, pull, bring, equiangular, creation, overall, abelian, ownership, leibniz, immediately, address, bucket, nine, constructive, analyst, minimise, str채hle, blue, nearly, localization, macrostructure, centroid, daily, debate, noncommutative, extent, parabolic, equiv, continuity, lose, synthesis, marked, rectifiable, london, gravitation, stationarylddmm, ignore, plus, complementary, east, virtually, generalise, orthogonally, hit, whenever, temperatur, moebius, serve, advanced, analogy, want, scanning, beginning, modulo, milliradian, secondary, polytopes, composite, algebraically, stencil, contribute, matroid, universal, demon, llcorner, power, correction, rediscover, piecewise, obvious, dih, detailed, proposal, vertically, future, fill, straightforward, dupuis, generation, adjoint, smoothness, originate, causal, strong, enclosed, designate, achieve, hardi, ozanam, optimize, fine, buckle, mutually, triangulation, bigl, overview, dislocation, sanskrit, veblen, rotational, painting, film, blow, forall, sievers, elasticity, evolution, eng, bridge, floor, religious, hypothesis, helenius, metamorphosis, accomplish, european, isaac, underlie, huzita, witten, seconds, midpoint, cellular, meter, correspondingly, rotachoron, galilei, pythagoras, invert, atom, return, picture, knowledge, credit, claveret, randomize, circumcircle, loop, six, maximal, plan, lorentzian, johnson, unequal, magnification, penrose, mathsf, extremity, toward, project, textbf, grey, wilson, exact, indexing, james, commutative, spatially, wheel, receive, oxford, reasoning, manuscript, treatise, shear, permissible, superpose, besr, saccheri, systematic, exhaustion, amount, indian, really, miquel, conductor, hypotenuse, proj, paraboloid, relatively, plastic, compose, asymptotically, bordification, evenly, little, microscopy, website, data, border, render, twisted, historically, papyrus, equidistant, expansion, normally, manger, raise, moire, murray, stable, icosahedron, determination, bounded, incorporate, parallelogram, russian, convenient, historical, freely, planes, transparency, castillon, 체ber, august, richard, descriptive, completion, meeting, conjugacy, deviation, parameterization, forum, architectural, wind, spring, active, simultaneity, elaborate, manner, fiducial, illustration, polyhedral, conference, patch, moduli, constitute, bragg, origamus, quarterly, prefer, hatori, voxel, successive, people, distinguish, ask, mode, sweden, valuation, highly, regression, clearly, mathit, thurston, interested, rectify, semicircle, silhouette, paris, inclined, belief, subsequence, surgery, merge, mil, invent, good, despite, johannes, fit, wikisource, archimedean, purely, anything, remark, homomorphism, bundle, isolate, intrinsic, reparameterize, geospatial, resemble, conceive, keep, noise, paul, codegree, speak, christensen, synonym, efficient, stability, quadruple, transversal, depth, annual, recognize, george, bang, subcortical, properly, unitarity, transmission, contract, site, daniel, grad, schoenberg, computed, diffeomorphisms, socket, stick, expect, copying, outline, restrict, loedel, bisect, revealing, tie, presentation, production, alternation, shall, hide, alternatively, sketch, locality, sweep, priori, finish, ian, flows, separation, reparametrization, comment, absolutely, utilize, somewhat, competitive, metadatum, tomography, inversion, homogenize, perceive, web, underlying, resource, man, vessel, educational, worldline, undefined, option, tube, ovoidal, lines, interfere, correct, influential, counterclockwise, centroidal, ant, melbourne, network, taylor, abraham, house, adjust, islamic, astronomical, strip, landmarked, removal, recognition, title, prominent, continuum, books, yang, zeta, accommodate, diffraction, spherinder, descartes, god, paradox, zeroeth, analogously, eighteenth, musica, zoom, bbb, thon, strategy, definite, multiplier, suite, pose, character, glide, guide, transition, exclude, accelerate, banach, conventionally, pregeometric, capture, institute, hypersurface, laplacian, interchange, aim, behind, recently, iteratively, tendency, jag, fret, vbm, behaviour, halftone, arm, constrain, basepoint, quickly, todd, groupe, und, formalize, accurately, alongside, egyptian, nikolai, darboux, company, soja, mostly, feed, sexagesimal, collapse, alter, rad, isoperimetric, teaching, thomas, bearing, refine, proposition, heavily, unity, thin, b챕zier, parameterize, multiplicative, infinie, famous, presence, criterion, fast, extract, cardinality, lot, mask, generalizationsthe, serle, robert, desargue, topologically, bigger, graphically, biology, aristotelian, cauchy, wrong, stationarity, introductory, designation, steel, subvolume, texture, apparently, stem, implicitly, modularity, lambert, generalisation, duocylinder, formes, industrial, cable, textile, exemplify, van, theoretically, writings, low, morphological, encyclopedia, sulba, bipyramid, rkh, wittgenstein, pedal, curriculum, thonerne, insight, trisection, additionally, protractor, bayes, needle, subunit, differentiate, arrangement, areal, grothendieck, shorten, conclusion, evolve, stand, output, proceedings, beat, tell, s챕r, anticommute, reserve, exchange, indefinite, morphometry, interleave, optimality, intend, infimum, unchanged, slowly, compacta, false, wider, bernhard, gauge, mills, negate, implement, modelling, neighbourhood, round, obstacle, variant, yau, rope, typical, eccentricity, noon, subtract, wallpaper, circumscribed, attribute, targ, roman, almgren, rhombus, heart, amrhein, offer, terminus, conserve, horizon, babylonian, mod, neither, sensitivity, microstructure, h철lder, wire, wedge, progress, notable, ren챕, hessian, justin, route, electromagnetic, sharp, generative, incompressible, millennium, subpaving, isinside, physicist, neusis, nonzero, tight, able, agamas, implementation, indirect, impose, scanner, inexact, tiny, stronger, learning, reconnaissance, hidden, genus, reparameterization, pierre, greedy, dodecahedron, teacher, normalization, conventional, differently, omar, practically, ssr, barycentric, mostow, divider, anthony, transitively, brown, displace, demonstration, shooting, dimensionless, conditional, samyn, accordingly, subfield, air, mixture, geometries, trajectory, repeatedly, download, nondegenerate, medium, truss, something, indeterminate, lefebvre, buekenhout, slight, dominate, opacity, core, neq, task, movie, assess, aperiodic, television, logic, glue, negatively, platonic, relevant, sixth, europe, bijection, poisson, depiction, concyclical, resistance, multiplication, swedish, visit, homology, investigate, pitts, occupy, anatomythe, menger, reconstruct, harmonic, pappian, winding, acad, undergo, roger, sylvester, significance, morphism, hundred, video, majorana, complicate, immanuel, lebesgue, endowed, instruct, mistake, latitudes, weaker, robin, monge, organism, labelling, correlate, caracterise, tesselation, broad, post, signify, forget, prediction, manifest, neighbouring, loxodromic, jakob, andr챕, nicht, assemble, mappingsoftware, springer, plato, relevance, lesson, linea, foreground, underset, rapidly, mechanism, prevent, multitude, anticipate, closer, swap, nonlinear, handle, longitudinal, conditionally, chiral, deeper, precursor, borromean, confusion, formation, neighbour, paradoxical, try, oswald, query, generality, semidirect, service, centimetre, overrightarrow, selection, rigorously, boldsymbol, convergent, transcendental, fubini, eventually, adjoining, med, koshiro, p책fund, flip, spectrum, dominant, fictitious, herbert, fran챌ois, strongly, resistant, tra, edward, stalk, ellipsis, contradiction, biomed, retain, rigor, wood, kirby, edwin, neglect, sort, considerably, western, dialling, refract, rota, likelihood, wish, evidently, mikhail, absence, realise, jean, outcome, predefined, kite, automaton, crucial, improve, inscribe, percolation, collect, bin, collineation, napkin, separated, cultural, yet, elliptical, neuroinformatic, k체tzing, inhomogeneous, skinner, robbins, philosophical, album, anticommutator, dash, harpsichord, mandelbrot, egypt, thereof, albrecht, technically, riesz, ieee, rcl, eine, enhance, snake, coplanarity, neves, glaun챔s, ear, projectile, philippe, concentrate, planning, species, loss, learn, vibrate, tesseract, ibn, dictionary, majority, compile, robot, orthogonality, les, split, successively, jacket, quantitative, ruppeiner, annihilate, dimensionality, migration, firstly, bob, origami, hybrid, linearity, bioinformatic, modifiable, kendall, cartoon, broman, likely, jayne, hardus, recover, animated, exceptional, consistently, python, overlay, iteration, monochord, motivate, director, pointset, classically, thousand, december, beacon, frieze, gnomonic, systems, abcde, australia, directional, reality, allowable, vedic, dtus, shell, additive, extremely, ivanovich, royal, frustum, assignment, scaling, moivre, wallis, confuse, rectilinear, emphasize, optimisation, gather, ambiguity, classroom, copyright, redundant, tanh, dataset, laue, raytest, adjective, narrow, scotland, splay, jones, devise, arthur, unusual, waugh, cloth, gradually, singleton, wolfenden, impact, coordinatize, mind, causality, leg, switch, kolmogorov, delineate, characterise, found, verticality, rewrite, bakhshali, thales, generic, geometryin, dewitt, algorithmic, feeling, library, sculpture, negligible, kinematic, boston, sim, neuroscience, zeit, architect, timeline, oriented, october, actively, torsion, imagine, subtend, mermin, rapidity, lung, superalgebra, experimental, pontryagin, designer, decrease, graphics, foundational, award, infin, pasch, deformetrica, dover, khayy찼m, behavior, heron, diag, dimensionsin, sophisticated, modality, arguably, unless, til, translational, deviate, sky, implication, brownian, unrelated, thusly, albert, funk, par, else, couple, musikalische, altar, quality, update, exponentially, sym, welche, confine, artist, violate, cramer, resolve, activity, envelope, seminorm, samuel, versuch, tone, initialize, civil, identically, abstraction, congruency, treap, primarily, message, comparable, worth, lim, astronomer, hazard, fire, som, collinearity, multivariate, tutorial, deflection, essence, legal, alt, quantify, mricloud, quarter, reformulate, horizontality, intermediate, conical, cahman, hermite, thereby, arabic, inference, gif, bounding, matlab, beloch, characterization, never, gtd, rightward, dass, easel, mainly, beutelspacher, artifact, membrane, row, decision, photometric, adapt, fashion, abu, concave, cayley, vacuum, fear, aforementioned, operators, living, newtonian, older, sutra, interpolate, atrophy, averaging, slower, revolve, precision, alain, industry, casting, inverted, largely, jacques, perfect, regularly, adopt, doi, smoothing, ancestor, rotatope, buffon, aid, aoc, confirm, fractional, antiquity, logarithmic, monochordium, wong, inhabit, predate, disease, municipality, tick, moscow, board, imagination, invention, builder, bisection, pioneer, quasiconformal, separability, transaction, ritual, national, behrend, party, oldest, fringe, eye, british, night, renaissance, highest, j찼nos, cosmology, compactness, none, appeal, persist, russia, edit, lang, thermodynamics, wavelength, lack, weapon, polhem, inscribed, noetherian, accessible, osin, greatest, universally, monthly, ich, annu, conception, ever, elegant, dyadic, spray, grant, toric, ludewig, enumerative, training, quaternion, summation, cardioid, augment, effective, pigeonhole, descend, parent, walter, rightmost, unaltered, calabi, intermediacy, discretize, bottle, revolutionize, nearby, monad, ago, anticlockwise, recent, tropical, biomedical, pierpont, likewise, eric, ants, krim, intention, nabla, mit, simeq, amorphous, psp, tower, unclear, discard, possess, modelthe, efremovich, gallery, item, hanger, alla, home, thompson, facet, st채mning, gottfried, tor, multiscale, acceptable, void, maximise, diamond, medieval, sinusoidal, geogebra, anchor, gefunden, chance, driver, packing, dance, consensus, robbin, mosque, finitary, hartmann, isometrically, northward, variance, grigori, emphasise, somehow, maintain, manufacturing, pascal, rychlik, curly, unanchored, boat, momentarily, 철rat, empirically, hoc, renard, exercise, fully, flexible, ion, denjoy, loosely, arab, slab, inversely, hypercube, matchingmodel, haruki, convenience, chronological, abbott, terminal, nothing, rightharpoonup, swenson, codirectional, situate, wrap, static, waist, convert, unison, shapes, usiskin, tire, exceed, heterogeneous, yaglom, terrain, determinant, convexity, feynman, muss, interface, magazine, modenov, anomaly, mutandus, fitting, concyclic, needlessly, ingenious, br철nnimann, neil, entangled, nima, recursion, girih, manual, ageometrium, ligo, heuristically, channel, compound, mathematica, cortex, privilege, invisible, haslett, gruner, hypothesen, commutator, broader, chirality, viewer, neuroanatomy, buffer, inward, pertain, geocentric, predictable, september, expectation, kyriakidis, fault, prism, resultant, hyperrectangle, exploration, established, prod, cod찼, fusion, regulo, evidence, favor, gross, bruhat, circumferential, richer, boundless, atiyah, transportation, abcd, vub, brahmagupta, leonhard, convolve, interact, japanese, silk, insure, rate, packthread, widespread, robustness, mon, spacein, planck, connectedness, sea, tract, vacuously, nemlich, stop, sens, l채ngd, fish, manipulation, aristotle, yoo, openshaw, nasir, coset, ijcv, pants, parcellation, categorization, portal, fulfil, ship, neutral, metrical, nurb, carmo, prepress, posthumous, leftrightarrow, parkhomenko, proofdefine, sparse, death, app, bulk, swenska, girard, ijk, tip, availability, cutting, grunde, cachan, encounter, extensive, dist, delineation, traverse, ahead, connectivity, shared, induction, borrow, st채mningen, ashcroft, afford, rhind, alike, mea, harris, shore, exotic, publishing, linkage, okikiolu, depart, notational, tutte, butter, weblink, arrive, summarise, california, imath, laser, eigenvalue, darmstadt, arguill챔re, whatever, inasmuch, alperin, rosenbaum, master, hypothetical, aliase, obey, format, birkhauser, zeroth, misconception, pianoforte, puzzle, australian, subinterval, enter, city, deza, thumbnail, examplesthe, arithmetical, handbook, oil, thirdspace, wang, mtw, bookstein, heronian, parasitic, stream, m책naderne, geben, unicode, grammar, subatomic, usa, thames, mast, constituent, batten, catenary, los, departure, rearrange, erase, markup, degeneration, sprawl, mumford, str채ng, morphometric, mentally, apastamba, syracuse, erythrocyte, glome, antiprism, recipe, horton, harmony, irrelevant, zariski, substantially, alhazen, weave, conduct, kus, nautical, twelve, personal, meantime, coarse, advective, recommend, permute, extensively, consistency, calibrate, jump, iterate, thirteen, reinforce, handlingar, vwxyz, thesis, inogon, seventeenth, aggregate, mountain, citation, teichm체ller, glossary, enumeration, svensk, graphed, administrative, thinner, temper, molecular, handout, systematically, nystuen, abstractly, b채ttre, aryabhatiya, quote, metricthe, optimise, adjustment, pitchfork, divisor, gyration, chair, giovanni, buckling, variability, mcgehee, remarkably, surprising, nilpotent, cong, apprentice, cressie, cpt, psi, surd, interdisciplinary, topologise, pythagoreans, hemoglobin, tenth, quasisymmetry, tablet, bertrand, publications, anticommuting, leftarrow, getlemma, chow, centerpoint, traditionally, ripley, weaken, disagreement, admissible, ruzena, pay, affined, aware, incommensurable, mathworld, perelman, presupposition, wilhelm, harvey, geodesicsfor, geometrie, liegen, waals, var, trefoil, tangential, weak, broadwood, optional, professional, argand, lenart, yezzi, greeks, cortical, emphasis, desargues, analyse, ageometresia, radio, globe, bhabha, metadata, f체r, andrew, supermultiplet, margin, ferdinand, altogether, greens, hvar, deep, spectral, thought, resident, sequential, eudoxus, numeral, perturbative, rmk, quest, interdependence, rhombohedral, bestvina, efter, ith, care, overcome, och, upton, epipolar, iff, classifier, topo, lineal, alexander, singapore, gas, transversely, hyperbolically, collaboration, greatly, beskrefne, newly, linearization, asymmetry, river, quantification, str채ngar, progressive, nanosecond, misner, surroundings, symposium, tall, ccm, secretary, simons, optimizer, ubiquitous, ageometresium, finger, scott, smallsetminus, specialized, noga, supermanifolds, king, market, radially, claver, homogeneity, symbolic, patchy, bibliography, subscript, tune, eight, intuition, boc, sketchpad, wetenskaps, critique, summary, harcourt, archive, flexibility, kikuchi, beauty, decide, principally, asymptotes, peaked, geostatistic, dynamically, parallelepiped, physically, restate, calibration, apollonius, permit, caliper, aob, d체rer, concentric, complexity, twist, performance, applet, latt챔s, conceptual, dynkin, robust, sutras, disambiguation, divona, bonnet, sons, graphene, theorema, declination, consume, superset, technological, jeff, alternated, brief, screw, millimeter, fiasco, fretful, ultrametric, age, perpendicularly, zalman, hinge, plain, halfplane, taxicab, forgetful, descriptor, robotic, linguistics, converse, stonehenge, artin, progression, blur, w철rterbuch, spaces, zenith, mukhayyar, ferguson, horizontally, baudhayana, aircraft, eighth, autocorrelation, cosmos, kerala, stone, prevail, laboratory, gain, mile, linux, thorne, freesurfer, discontinuous, lesser, midway, fernando, china, iso, photograph, gyral, integrand, mirimanoff, acoustic, tit, clay, triangulate, satellite, workshop, paulin, constancy, somayaji, worldview, examination, reducible, kongliga, berechnung, potentially, covector, arxiv, november, htr, intro, everything, polygonal, archibald, shoot, mac, govern, freedman, engineer, person, inherit, attach, physikalisches, hash, limited, fingleton, ambiguous, cosmological, cake, ananthaswamy, alexandria, traffic, mutati, inspire, transformations, rights, writer, database, launch, forward, doubt, springerlink, kanaroglou, metrisable, concurrent, tikhomirova, akin, advection, ludwig, homogenous, canonically, barber, technol, lima챌on, fatter, wavy, conjugation, altitude, intuitive, norton, subtree, academiens, unrealistic, hang, lighter, astonishing, eversion, reside, tessellate, store, rogers, grefing, fence, efficiency, desarguesian, triangledown, slender, macroscopic, electron, heinrich, simplex, sensitive, compositional, staudt, tobias, patrick, moirer, aryabhata, yellow, temperature, strict, holographic, culminate, respective, cast, seed, axiomatization, adsorption, reform, interesting, hypertemplate, heavy, margharita, perdigao, cad, flange, trans, charge, talk, ages, proclus, loudspeaker, hudson, unsatisfied, station, summarize, mohair, maximizer, zahlen, 채ro, amenable, hexacontade, tucker, tenor, stitch, equiareal, ultralimit, satisfactory, discrepancy, totally, raising, maup, filter, formsthe, psu, simul, eva, regional, bijectively, diophantine, conjunction, birational, nonempty, india, tr챕lat, marques, collectively, environmental, christlieb, herder, musik, ignorance, worship, photography, curvilinear, dom, polychora, circumstance, psl, millerian, s큰tras, hear, geometrothermodynamic, chiefly, rabbitt, programme, boxthe, formalise, document, lightlike, capital, bigcup, plant, adequate, chinese, essay, switzerland, navigator, oscillate, cratch, icosidodecahedron, story, christopher, overlaid, frobenius, damp, animal, henley, demarcation, irrational, commute, chemical, denoising, media, weil, chaos, shorter, ulf, mathaid, hopkins, dirichlet, factory, walk, noticeable, epdiff, anchoring, maxwell, surprisingly, shadow, rigidity, push, wiley, grain, brelin, rarely, c훱ld훱raru, math챕matiques, brouwer, thirty, hill, recursive, johan, shannon, visualisation, alone, prefactor, rips, units, supplementary, flattening, geographers, laurent, lobachevski, reasonable, protein, derefter, unaffected, reject, seiberg, inch, acquisition, rolling, kenneth, vi챔te, aesthetic, fascinate, diffeomorphismsthe, systolic, endow, charles, operational, imperfect, longest, sheave, contents, editor, agol, requardt, goodrich, chen, francis, elsevier, arrange, gradian, finding, polymer, den, geometrium, stephen, matchingthe, slenderness, manipulability, hypersphere, street, manfredo, slodowy, nucleus, liminf, denominator, refinement, matchingin, correctly, measuring, wills, leung, positivity, verify, predecessor, sextant, regularity, excellent, fastlddmm, pascals, reshetnyak, monotone, pick, duplicate, babylonians, representative, hourline, gren, theorist, desirable, candy, virtue, germany, ute, magic, infer, icp, pursue, inappropriate, broadly, solvable, holm, retrieve, constructions, concise, kunna, countable, arlinghaus, microscopic, vehicle, scaliform, marine, diffemorphic, census, reliable, birth, pronounced, analytical, reaction, berlin, asia, adoption, equidistance, instrumenter, soap, nobleman, underived, sophistication, scales, distinctively, marston, gustave, gabriel, paradigm, jupiter, ising, bbox, transformational, fred, repair, amplitudes, ink, capitalism, steep, marble, planetmath, seventh, shapefile, infinitesimally, stamningen, gr철bner, accomplished, sina, nonsimplicial, descriptorsone, speaker, originator, quasi, bilateral, habilitation, historyin, kate, gravitationally, divergence, claude, solarium, conjecturally, moran, burden, indispensable, changeproper, asset, founding, iconographie, diffemorphism, chervonenkis, enligit, instantaneous, lowering, geophysical, intense, preserving, microscopyin, exception, oftentimes, transformable, southampton, daylight, traitement, propertiesthe, anharmonic, scribe, jaroszkiewicz, dip, glean, schmidt, evans, somewhere, crepinerne, wendel, steer, datatype, mismatch, abuse, orthographic, whichever, feng, matchingsurface, premier, isotopy, scottish, default, resist, guardian, spacesaffine, faith, freeman, worst, g챕om챕trie, ham, wessel, vapnik, str채ngarna, couette, historyeuclid, interlaced, deductive, mathrel, shoreside, applicationsbelow, bivariate, kindergarten, hermitian, ske, rectification, bajcsy, signaturethe, planesbecause, geometryeuclidean, inflate, gehler, mristudio, gelindesten, refinery, typewriter, ryser, blackboard, caret, extraneous, monument, graduate, istheorem, sich, informal, flattable, alberta, palace, alternately, wantzel, pen, investigator, evangelista, reflexive, casson, sliderule, thread, basicsthe, decisive, theorymore, plethora, solitons, spherisquare, breadthless, multifractal, gaf, occasionally, theorembefore, bilinearity, dimensionthe, approachthe, unlabelled, motivator, carath챕odory, xii, solomon, definitionfor, team, barbier, jus, ahmes, kaleidoscopes, pseudosphere, postulation, robustly, lvert, inflation, ninth, hto, optimalitythe, ductility, sehr, lewis, gable, watch, technologically, opinion, rwth, crafter, structured, tian, gongyl, abbreviate, electric, whittaker, association, celtic, schneider, qualitative, shalen, timber, ozsv찼th, harvard, formalization, unacceptable, respond, suzuki, scopeit, partsthe, idealization, multidimensional, mandatory, perceptron, pancreas, hard, determime, anstalt, islam, intensive, diffeomorphismsfor, enneagram, allen, inaugural, bidifferentiable, serles, praise, sverige, refute, consult, anatomydeformable, promota, pamphlet, partly, tabernacle, connes, rev, participatory, lynch, aging, chula, m책tto, sthananga, consumption, helpful, sophus, futility, nirenberg, saphea, indecomposable, referee, codesgiven, ingenuity, birkhoff, banknote, placement, vista, replacement, alle, permanently, lye, retrain, preliminariesin, paragraph, scroll, arcco, emanate, biologyerythrocyte, st채mnings, kantian, moulded, cole, donaldson, websiterichard, midbrain, heidi, remarks, cab, simus, raanan, mature, infancy, hopefully, bain, rham, mapsheet, satapatha, ridden, triviality, opposing, exampleusing, please, equidiagonal, 克�꺫��곍�, virasena, cardinal, helly, bruijn, 極��筠棘閨��逵鈞棘勻逵戟龜��, records, sorkin, studies, robyn, northing, escher, claustrophobia, partner, stott, berry, hinged, cattle, underpinning, critica, corruption, prolate, skeletal, girls, midplane, unobservable, attendee, andrei, locator, carlyle, eastern, circumradius, puncture, invertible, relationist, algorithmthe, naming, chichester, cheeger, adjectival, mura, ehrhart, geh철r, essen, ascertain, archaeology, zalewski, mitochondrium, l철fa, florida, movable, analytically, rendering, bank, introductiona, luitzen, methodto, heyday, cleavage, jeremy, charlton, lateral, predetermined, horner, ovoidoval, honeybee, 款�됌싸왁�, applicationsin, symmedian, linguistic, discreteness, rita, derived, planesthere, metaspace, institutes, cyclegeometry, unregistered, mammalian, terminologymathematically, mathclose, birthe, tradeoff, lean, installation, ict, gnomonum, incarnation, bootstrap, verb, soddy, softwareother, humanities, slac, 철gat, pulpit, accuracyfor, tedious, suitably, religion, cpu, denotation, mactutor, shapesfor, dead, unnecessary, erd흷s, junkyard, truth, federer, structureby, poles, office, calgary, giacomo, totality, burn, eduard, sale, normed, symmetrohedron, densely, serif, offset, glass, weeks, overturn, geodetic, operate, karol, complication, arnold, odfhigh, japan, croo, parcellated, 均筠棘劇筠�귂�龜龜, charitable, werner, parametrically, reminiscent, willmore, applicationstom, liquid, generalizations, stancu, �댭분압뿌뚍싻압�, directrix, sidoni, guyed, village, ingredient, michell, rebar, steinitz, dialsthe, assortment, leftmost, dimensionlacunarity, nabarro, moorhouse, computationally, forth, inspect, commission, pacific, apostol, fabricate, elaboration, phobia, kai, valentiner, wilkinson, leland, steinhardt, directed, evenness, char, informatics, histological, kaleidotile, nonagona, nonuniform, f철rf채rdigat, coarser, sharafeddin, furnish, turbine, subalgebra, wolfram, court, geh철rige, burgiel, propertiesthere, perceivable, hedgehog, matchingbeg, swastika, tantamount, eliminate, alloable, probably, charlotte, pentagon, benoit, azencott, powder, gamla, gestehen, thousandth, situs, preliminary, footing, poincare, sedan, automorphic, notationintersection, atmosphere, mainstay, golding, sell, jack, modification, million, detta, crystalline, huygens, commodity, springboard, objectivethe, morton, nation, voor, declare, cyc, barry, ams, mosques, pvc, trapezium, munkre, ease, threshold, ditto, prohibition, culturally, nasr, himalayan, mug, planimeter, camion, self, inauguration, indefiniteness, mixed, countercyclical, biodiversity, succession, siggraph, gerwien, equispace, fade, amar, nielsen, printer, comprim챕s, gallai, honey, giacometti, spheres, rabattement, definitionsoften, honor, kappraff, mysteries, dependency, temenous, gang, annals, marden, revelation, polyhedra, gresham, gappiness, applicationsgtd, nicholsons, handedness, wentworth, overset, forder, clamp, discuntinuously, entry, trialectic, hyperbolicity, mechanicssupersymmetric, gibson, gravitate, undf책r, latteur, clue, thonernes, realisation, punch, definitiongirard, structurea, polyconic, meusnier, dendroid, azimuthal, linesrecall, complicated, vialard, zoo, horzela, quartic, americas, khayyam, hultenius, knobby, geomerie, basics, lobe, iota, beniamino, deflect, booklet, petter, asteroid, akira, cope, saddle, semicontinuous, restructure, vectora, prototypical, smale, outwards, printmaking, chop, paradoxically, oab, reese, propositional, zonotope, constructively, primal, constructibilitysubset, gans, englewood, entorhinal, mwar, distinguishable, inaugurate, architecturetemple, certainly, stay, solidangle, pile, job, isostatic, musikforskn, fredrik, modelshape, geometers, giordt, boundariesfigure, sollicitation, roundness, omit, dielectric, htrc, objectsif, michor, omnitruncate, idol, erosion, ineffably, informed, agoraphobia, solar, excessive, erich, wythoff, numeric, chevalley, g창teaux, spacesusing, memory, fluctuate, oncoming, wymer, exampleswhen, chern, monochromatic, topologygeometry, manage, gersonides, checkered, moulton, chronologically, birefringence, byte, dandelion, poppyfield, balls, subfacet, amend, believe, howard, tide, inequivalent, austria, rothe, dentistry, flourish, crm, playthe, constructibility, revival, chladni, stipulate, vividly, lacunarityother, chasles, notionally, namnet, coxford, indivisibilibus, pet, nonoverlapping, elena, huruvida, socrates, deceive, room, mix, romero, hales, eponymous, landau, probabilist, pedagogic, lifting, mbox, nathan, parametersthe, kink, shapesin, snubs, christos, realization, vivid, percentage, bullet, unobserved, liber, developments, lane, moyre, benedikt, skip, th훮bit, boxin, unlabeled, morphing, exhaustive, standpoint, caligraphy, tracking, jmk, preprints, lagrangewhereas, ivic, spaceminkowski, encyclop챈dia, rich, fawley, zisserman, flowsthe, beurling, documentation, exposition, sinclair, inconsequential, rare, koberda, acta, conceptsthe, nathalie, geometrydifferential, wavelet, undermine, pyramidal, rvert, washington, install, betweeness, einmal, twentieth, sectional, nowadays, dispute, angora, emergence, suspension, beginner, nubians, enumerate, territory, algebras, dobkin, klinger, cosmic, iacono, planelet, metabolism, umayyad, submanifolds, richtigkeit, amygdalum, hypergraph, honeycombs, propagation, damascus, disadvantage, steven, dissertation, poncelet, honeycombsin, geodesus, comprehensive, bajcy, abbreviated, anisotropic, discussionthere, corollaryfind, salmon, drive, unbiased, lengthen, fus, unwanted, dummy, compactly, dodecaedron, finer, sulcul, theorythere, antonsen, gcl, revise, survival, continuorum, boundaryif, landmarksglaune, gengzhi, navigate, prototype, gml, prepare, shallow, mobile, trilinear, novissima, gyro, lott, pressley, tomographic, caldwell, heritage, engine, intersecting, enrique, communal, skill, alina, crawl, grimes, boundingbox, transitive, vascular, footnote, enormous, emit, into, consortium, dimensionssuppose, douglas, famously, meyer, flood, successful, twin, mapsthe, aliasing, dispersed, rosser, torricelli, dissection, callister, versors, lynn, commutativity, nest, str채hlischen, perez, touchscreen, expanse, accordance, unequally, war, sv채ngningar, porous, h채rtils, roof, heterostructure, convivialium, procrustes, l채sset, responsible, definitionlet, anyone, quintas, ambo, cardiac, keyboard, supermanifold, bombelli, reluctantly, usable, preprint, behageligare, surfacestransform, guggenheimer, inferiority, lfloor, polygonsquadrilateral, nummer, millimetre, inductive, trip, sullivan, thoner, lett, shaft, setzet, developmentdiffeomorphic, dish, magenta, downward, newer, thridspace, colloquially, oneself, amplify, pathway, eponymwhen, finitism, applicationsmathematical, annaler, gallucci, das, undertake, pointsthe, maneuver, tempering, cotton, pipeline, tilted, types, applicationsfat, readable, nineteen, ht灌, overboundinga, logo, kilometre, flatland, andrea, verlag, inaccuracy, obviously, amidst, cyloid, kang, individually, judge, belgium, wissenschaftliche, flatter, protective, interferometry, yakov, whereabouts, unwin, conform, composing, rkhs, harold, peano, penalize, algorithmgenerating, mcg, mcgraw, pennsylvania, perspicuous, nonparametric, corr챕lations, guinness, crapo, neurodegenerative, organologist, pedagogyan, lyre, tetrahedronapply, workstation, meanwhile, thermoplastic, straightforwardly, validate, brahmana, thirteenth, ripple, sauter, monitor, county, joint, cr챔che, ertr채glichsten, sight, apparatus, nonus, brand, orchard, vinci, slow, basisa, bamford, uzes, tolerable, prompt, leonardo, making, cao, cleveland, hiele, expensive, efficiently, cliffs, applicationsproper, observational, momsminivan, undetectable, tempered, counterexample, aarnes, tretton, linessimple, oblate, vogeli, changeif, ratiu, alndmark, regulate, bygt, emission, usu, provision, tango, platelet, unexpected, injective, polygona, publishers, orientability, peskowitz, metricone, descriptiona, explicate, economic, notably, manufacture, moderate, polterovich, drill, impervious, krogstad, 챕l챕ments, rephrase, attitude, processingin, spacecraft, orthodiagonal, geneva, henceforth, moir챕the, rough, gagniuc, sobekk, slimnessthe, robion, bolt, intersectionsthe, horologiorum, browser, noun, quintic, noam, moa, arithmetize, ricci, gte, butterworth, electronic, bhasya, remainder, nonagram, automatic, octav, thalian, mechanismwittgenstein, mono, arctic, attenuation, gatsby, interchangeably, plimpton, brane, amongst, damage, evident, truncated, massive, nomenclature, pack, morley, lazare, hypercomplex, selective, descriptionwhen, threefold, sangaku, proximity, geom, meantone, grb, redefine, incongruent, morgan, differeomorphism, indistinguishable, everyone, nuisance, dyn, wiles, department, spheresif, unnamed, deity, guilford, extended, discriminant, heise, definiteness, wise, bernoulli, lists, july, momentumin, paler, pip, heading, fretboard, jurisdiction, pathmarajah, vitutor, spherejournal, utilise, hiller, circumvent, tre, handbuch, subregion, umbrella, groupsthere, cogito, aha, bioengineering, dome, historymoritz, dennis, hyperbolichyperbolic, gracefully, subsection, klingenstierna, nullhomotopic, hinduism, discerning, mechanically, curtail, t철ne, mot, inherent, homothety, energetic, laminated, attain, health, iosif, edn, mortar, terminologyin, preservation, window, adjunct, algebren, jay, karp, f철rn철ger, assemblage, shortcut, pping, multivariable, secret, rome, plugin, conceptually, greece, descreen, tits, opening, adjacency, poincar, eleven, geometrize, tusi, sintef, nova, plumbline, h체lphers, monopoly, substrate, artisan, borel, cacophonous, l채ttast, tractrix, currently, sawhorse, duration, substitution, fisher, seismic, optics, geometrodynamic, heap, lorenzo, continually, roy, fair, sure, flatten, calculator, mount, incredible, bicycle, helsingborg, hadwiger, pinpoint, perturb, jan, ont, houang, naive, heptagonal, electrical, country, abbreviation, polyedron, undergraduate, scope, fork, automated, indiscernible, puncter, deploy, propertiessubdivision, recipient, carnegie, dyscalculium, isotopic, trust, lump, cryptography, lucy, lee, str채ngarnes, bidimensional, zolt찼n, ecological, semilinear, analyzer, palumbo, suanjing, schul, torsional, controlin, entitle, stochastic, gonon, petmost, nicolas, encapsulate, instantiate, counter, depths, gregoire, istv찼n, excircle, dedicated, hassan, decline, polycarbonate, disappear, fujiwara, prefix, minicozzi, angeles, tailarach, savi, weinhold, voronoi, afar, farther, tredekachordium, pinhole, barrier, spider, icosahedronthe, minasyan, degeneracy, problemsthe, distributionsalternatively, subpave, metaphysician, justify, benedict, klitzing, uppkomst, improper, tally, stereography, extant, appropriately, locational, smid, deny, gerbe, wool, prentice, lucero, mundy, utr채kning, rice, nodal, descartesdescartes, hodge, mansur, cogan, gilbert, kinegram, argmax, caspar, etc, unconscious, absorb, led, �댭분압뿅�, metadataowing, pin, inform, envision, prescribe, equalize, bricklayer, marmoreus, corrosion, s채tt, disallow, validity, repeatable, notationa, princeton, luminy, inclusive, microphone, cyan, boldface, united, everybody, accrue, elsewhere, vucetich, hipparchus, habit, raster, curvaturea, margaret, sdt, accumulation, centrifugal, magnus, webeq, macdonald, vladimir, establishment, hutchinson, chapel, posterior, bekanta, proclaim, geografiska, greyscale, pierce, descriptionstart, sollen, measurementin, brace, gymnastics, unfolding, projmath, baptiste, accumulate, elation, wikipedia, burger, dangerous, amateur, ptolemaic, mcmullen, kan, onward, pepys, silberstein, transpose, theologian, heine, pseudoicosahedron, arcsecond, vincenzo, wpd, peak, district, externally, bulletin, homogenization, specialize, fischer, ludwik, unlock, cengage, descriptorsin, colding, marsden, weld, raymond, crane, fsl, shilpa, till, unrest, albeit, hunger, presume, quadrangle, imprecision, tessellationsstamp, beh철riga, tco, sphericon, insulation, duke, condensed, bitangent, obstruction, imperial, hernando, lizard, terrestrial, insphere, pioneering, ninomiya, fatigue, projections, eigenelement, samt, underbrace, postmodernism, maths, tetratetrahedron, trigonometrische, b철r, snubsjohn, parameterizationoccasionally, sono, h채r, trunction, confusingly, spanish, wet, instructive, proofs, thebit, heta, centreline, handful, postmodernity, kuratowski, georges, intonation, sco, navigationthe, laminar, vrije, borsuk, musikaliska, subtle, zarlino, quasiconformality, jane, betweenness, dienes, apb, chaotic, mandred, matricesan, catch, echo, eberly, phd, reciprocation, fortification, superscript, lemmain, applicationssecant, ridges, unchallenged, acknowledgement, candles, sexual, postdoc, reflector, surely, fairly, wonder, hinzuf체gen, spinors, moi, release, wizard, johann, slater, milestone, k철nigsberg, substructure, halve, rotagon, snappea, 힄ulba, kronheimer, barker, yoga, supersede, compensate, invariably, tradition, popularization, jesus, originconsider, examplessee, straddle, preserved, mall, warped, reparamerize, append, butterfly, genesisat, questions, gaspard, noncollinear, mitchell, quevedo, sisir, brussel, irreflexive, har, weitzenb철ck, l채rer, apiece, chauvenet, challenge, private, arzel횪, rotary, acylindricity, aufsatz, ali, suffer, operand, directrice, rescale, annalen, skulle, pseudoholomorphic, structuresfor, homi, isotropy, 劇逵�궿둔셸겉궿먁분�, professor, synchronously, webgl, abd, str철msholm, postcolonialism, disconnect, mattheson, tread, moufang, silicon, geometriesa, lacunarityin, hall, copernican, trianglesif, fra, michigan, afb, supply, ascension, usethe, constellation, 채fkar, reorient, lune, hypervolume, enneagonon, tuck, realistic, synthesisthe, mathaidmathomat, maa, atop, sheathe, g챕n챕ral, aboriginal, europa, subtopic, clothing, vitruvian, fan, insect, marking, distorted, ratioa, durch, specular, coverage, diallist, defer, scissors, 체berzeuget, trigonometrical, monotonicity, klavikordets, probleme, swick, halfway, positively, platform, st채mmes, dualistic, pencil, worker, nonagonal, approximationin, landsbibliotek, witelo, factorization, polymath, ljud, insulate, transcription, cuisenaire, uncertain, flavour, josef, editing, atomic, tabletop, distinctive, winner, miriam, passing, extreme, brillouin, grasp, states, posthumously, afhandling, eakins, macht, skull, casimir, l철vstabruk, buoyancy, adjointness, ordinarily, diffeomorphismsdefine, pantheon, metricfrom, eugenio, shapelike, cumulative, cornell, bonaventura, tillh철riga, burmester, requisite, slant, dubbs, silpasara, gnonomic, transatlantic, attainment, buchanan, examplescommon, easiest, nested, ban, l채ngder, barrel, putumana, camassa, estimator, anglesalthough, tunneling, f철rst책ndet, falloff, employer, gridiron, nonetheless, recreationum, guirardel, colonialism, duplicated, causally, s채tter, bubble, chosen, st채mmas, multimedia, simplification, sections, dessiner, acquire, hyperspace, psychologypsychologist, tetrahedral, oed, mathematicarum, initiative, appendix, daring, widetilde, marek, reeve, isotope, kzv, positron, lindemann, gon, galois, snarare, contour, nomenclaturethe, montr챕al, h철rsten, angled, historycomputational, instrumenti, ringwood, vir, extrapolation, supergroup, images, virgo, powerful, partially, ascribe, peierl, innovation, technologies, setsthere, tamil, positioningin, musician, rotahedron, pineda, facade, trisect, taxation, score, tidskrift, untouched, arctan, procruste, lippard, st채mde, astrologer, proceeds, moir챕line, fl채chentragwerke, emmcvpr, moduliif, productgiven, experimentation, rot, cubethe, edges, impoverished, cocompact, dissertatio, suchte, crofton, vdot, garner, polarization, sv채fningar, papakyriakopoulos, lighting, spatiality, incorrect, axiomsthe, gettheorem, dadic, divisible, topologists, bouligand, subcorical, heath, sok, hierarchy, dessa, elongation, gioseffo, methodsthe, researchdure, separably, transcendence, infrequently, src, cathedral, excessively, hardly, lake, guess, caltech, aural, definitely, muir, temperaturen, minister, shade, macquire, embody, dublin, hosohedron, nlab, doubling, front, bicontinuous, helsingborgs, douady, interpolating, irrationality, firstspace, deltahedron, qua, meditative, usus, vara, qawl, church, haining, geometryderived, eugene, peakons, universit채t, metro, sage, coordination, interferometer, translator, longrightarrow, rural, visualise, geometrythe, vergn체gen, dowel, prooffirst, disphenoid, adm, agarwal, monograph, hexlet, descriptionshape, visually, composer, nineteenth, bond, eratosthene, attractive, prismatoid, clearest, favorable, quantization, circulation, nctm, optimised, augustin, reflectional, firearm, htco, irregularity, nonequivalent, graham, definitional, pisk, numerator, savola, supportif, wealthy, reservoir, abandon, isolation, odot, nautilus, whitehead, expense, quermassintegral, ultimately, manifoldssymplectic, entail, varinjlim, finna, vorlesungen, undersample, illumination, def, ongoing, juxtaposition, alamos, pyl, clustering, dilute, definitionthe, patternless, gantry, reputation, omission, thicker, globally, kelley, routinely, chambered, evolver, nearest, purchase, mazur, inwards, equicontinuous, viewshed, compendium, generating, minnesota, setlet, brussels, ulam, statistic, emedan, lion, fibonacci, link철ping, finiteness, swiss, indication, kernels, diamonds, nostalgic, someone, thick, globalization, otto, inconvenient, knowles, vernier, cygwin, pragmatic, schaum, islands, son, specialised, shield, srdt, pedoe, waerden, nominate, mandalum, sherk, fifteen, mouaire, elongatedness, b챕dos, vlachos, shridhara, discontinue, cubical, hunting, heterogeneity, participate, cahill, holomorphic, pangeometry, passage, motif, marxism, italics, fortuitous, ribosome, tear, cycloidthe, magma, intended, discernement, oplus, jongmans, mersenne, tumor, camenga, aachen, broadband, leech, subdiscipline, jon, fairing, computerised, memoirs, slice, videosgeomview, bcfw, attachment, marxist, louis, stifts, hbn, quell, linesgiven, homothetic, slot, chongzhi, educate, simplice, frei, mobius, tilt, girolamo, leichte, dickens, scholar, chowla, trunk, lamina, haversine, temporal, kapuscik, supercell, infinitude, planesif, fabica, therein, ballistics, conrad, pertinent, lens, multus, processingsome, leftward, diskthe, draft, impedance, nytt, artistically, mipmapping, klain, gardner, bcd, linearize, rhumb, crystallite, illustrated, precluded, geometrization, simum, cembalon, lawrick, inradius, bent, ross, bruck, 款�됌싸?�, fallacy, transmissibility, schoen, m체hsame, objectively, wear, gamlum, weiss, rushton, durer, song, gizzard, pons, monet, lehto, hungarian, sandwich, taubes, idempotent, parametrized, doctrine, vaillant, referencesthey, siegfried, colonize, nieuw, homological, immersionsfor, preference, lincy, typografiska, besv채r, unambiguous, 均筠棘劇筠�귂�龜�눺둘곍분먁�, willy, paraphrase, 琯館館琯慣, kh척ra, twofold, shirt, provenance, rotoinversion, exercitatione, parallelismgauss, thereafter, abundance, normality, trigonometrisk, considerable, policy, stuttgart, hue, subtension, christian, hyperreal, pseudo, nur, recutting, inevitably, brunn, paddhati, andreini, condensation, assure, abacus, visualizer, lccn, africa, predict, shearing, farin, dylika, islet, restore, tomasz, aggregated, mainstream, faisal, empiricist, orbitin, unifying, studio, leaf, escape, perga, lesen, snyder, elite, probabilistic, prerequisite, proportionality, examplesseveral, reliability, stanford, alzheimer, volumic, dependence, predicament, feel, rollingthe, zorin, giants, principia, microscope, nonpositive, countingthe, nth, miletus, mann, gnomomic, mbb, nagalingam, faculty, ddot, tripod, matrixthe, relabel, ashby, szab처, ecology, plutarch, diracs, posit, historisk, atherogenic, substance, reed, preimage, geometrica, humiaki, motionsneglect, likst채mmighet, sooner, abrahamsson, derom, vallerius, seek, sobelev, wooden, decompositionsgiven, slippage, unproven, suit, everyday, zur, yieldlemma, trc, unsolvable, geometrystephen, pylon, jeger, brennan, monitoring, verbal, characteristicone, authentic, schwarz, hindu, stanislaw, definitiona, copernicus, dictate, v채rkst채lla, akama, akustik, idealised, trouble, plasma, faceting, technische, ker, galileigalilean, knuth, entertainment, ueber, manufacturer, cryptically, effectiveness, limsup, beh책ller, francois, foster, infrared, ernst, h철gre, neuroimage, unevenness, pipe, lacunarityanother, stallar, caillebotte, lifshitz, internationally, ascoli, nato, templar, corollary, electromagnetism, selbige, 챕lie, chapman, houndstooth, fabric, stringing, edmond, rohr, fitzgerald, rack, bicentric, octahedral, lawlor, areamore, plaster, cubesthe, oogl, joe, train, underwater, raoul, mori, bern, pyritohedral, ptolemaios, neurodevelopmental, ehrensv채rd, howe, hemispherical, stellar, metre, michelson, circl, sketchdefine, sideline, applicationsgeometry, lightcone, destination, welding, unprintable, scripture, fastest, subsetneq, wiskunde, unify, newscaster, basically, extrusion, neocortex, proportionally, schedule, graphsthe, qurra, hrn, kilometer, fraclac, expx, svenska, bhaskara, clarkson, behave, steeper, earle, resourcefully, revolutionary, d철ma, subjective, carefully, boundedness, arelemma, astrolabe, micrometer, voellig, pollution, enet, egbertus, fgdc, mystery, ripoll, verse, wilde, pleasant, dini, conformity, conflict, exhibition, laplace, functorial, pab, intersected, impression, frederick, ruth, napier, timaeus, archief, goat, dichotomy, papadopoulos, coastline, blaschke, resultsthe, downsize, preparation, quadam, subcollection, therapy, idempotence, radiate, vom, karen, kiel, heighten, clebsch, geomorph, promising, thalamus, distant, lenticular, f철rut, nils, impart, researcher, mario, township, nash, khan, reticular, impractical, nhs, mlodinow, sex, gradation, scenario, irreversible, spm, spacethe, port, subsume, partners, underestimate, spiritual, rfloor, anatomygiven, michel, institution, unsolved, quintessential, practices, trademark, sciencesspace, holy, phone, dictum, manifolds, skilnad, sitter, h철rer, isaak, unwind, utan, triskelion, ogc, chain, advocate, descriptionem, maryann, strings, reactivity, exit, chomsky, packet, grantha, hollow, formulationwith, theme, broglie, america, discourse, mccleary, poinsot, hoeckens, brooks, dandelin, ceva, phys, undated, victoria, nilakantha, pointa, rim, nonlinearly, codegrees, abdul, cigar, galileo, semidisk, italian, associativity, friction, esplen, dmitry, khayyara, andra, crown, anand, rudolf, mth, anil, startling, ten, cartography, shrink, harald, enlarge, jesuit, windows, bryce, tradesperson, stereometry, feminism, trnka, muslim, contradict, linesif, leonard, fisherman, beer, rayleigh, exponent, hansing, rippled, dualism, elongate, fuzzy, bridges, peg, advantageous, brian, england, mous, mildest, prehistory, planea, serre, concurrently, mellon, geological, multidirectional, preposition, irreducibly, asinorum, success, listener, triplet, octaverne, nelsen, crosssection, shortcoming, carved, piercing, ontological, harper, degrade, inadequacy, guides, alice, jonas, giraud, introductionthe, backwards, idu, cabling, semicontinuity, solo, hallowes, airspace, hartshorne, atlasesthe, severe, management, shui, sep, spiegel, variously, increasingly, marin, ary, handby, flash, dtithe, package, fluctuation, pan, elevated, expose, k철tter, arbitrariness, seneta, tractricoid, parshall, ergo, miniver, viallard, pivotal, triad, hexahedron, brick, generalthe, matchinglddmm, excess, fauvel, informally, mesopotamia, cubus, nephew, segmentationwhile, scratch, curvesa, fist, cea, routine, annihilation, naples, northern, relativitythe, ander, disability, motivation, beitragen, leuven, hologram, immobile, gabai, flaw, yielding, origametry, communication, orthocentric, whirling, educator, animate, f책r, ofvan, xiii, rat, inevitable, trigonon, sidelength, combinatorially, associated, mennander, craft, stub, exceedingly, cancel, dioxide, gray, dementia, concordance, barter, wildly, manifestation, stamp, definable, psychology, materials, reader, narrowly, harmonious, perspectivity, supplement, polyhedranonuniform, glaze, diacritic, andrews, fock, brewer, tighten, transporting, l채mpadt, dahmani, darker, collaborative, pop, lyt, geomviewmuch, concavity, sawing, dcmi, unschooled, dieser, satisfying, tono, enthalten, tonal, billion, aside, canada, gabber, placeholder, enigma, perfectly, slipknot, favoured, prinzip, typicality, kali, relativist, catalyze, toy, umbrarumque, airport, indigenous, secondspace, sie, symmetrythe, extruded, ratione, twodimensional, trinity, quasicircumcenter, semi, bias, lindisfarne, extremum, functionfor, nonuniformity, projectionthe, aufnahme, soliton, manasara, public, compromise, seidel, tro, readingsome, characterisation, 훾ech, readily, des, rationalist, uniquenessthere, rebatement, youngest, security, posteriori, lyndon, avec, novel, johns, monodromy, recherches, nullcline, axiomthe, linien, trimestre, chios, founder, berkeley, poke, frechet, hungary, matthew, permanence, categorya, bill, lastly, colonizer, calculators, recourse, anticommutation, sphericalto, saccherus, thumb, brad, prototile, archetype, jacobson, kristin, visilibity, hypercylinder, handspan, r채ttadt, champion, offering, intransitive, dedekind, fullan, catoptric, compatible, theobald, unoccupied, awareness, delimit, disturbing, splitting, mathematicsv, increment, ungleichschwebende, anglethere, watchman, nurbs, aabb, hesse, helix, slavery, constructionalthough, semantic, dembowski, divine, transient, n채r, aluminium, zhoubi, universiteit, distinctly, sard, segre, disjunct, antithesis, dispersion, homage, bergliaffa, flag, smoother, winslow, entertaining, exhaust, digon, achievement, smoothingwhen, inequlaty, morning, brianchon, user, trisector, diverse, alexandrov, insist, jun, transitivity, kempczynski, matricescao, necessity, gleichstimmigkeit, shine, government, solely, preferable, mayall, charm, adherence, food, donald, colonel, theoretic, mnatsakanian, inconsistency, vastly, reuleaux, theoremthe, 힄ulva, jain, decorate, twitter, resources, vanligit, journeyman, musikhistoria, linnaeus, inhomogeneity, norlind, toronto, indocator, concordia, visibly, patternslet, schematically, darkness, vectorthe, miscalculate, bravai, holditch, bretschneider, precedings, fledgling, mouse, institut, setin, hate, promote, gerolamo, restatement, nonogone, pulsar, siddhanta, unreasonably, thermodynamical, satisfiable, carnot, apiaria, posteriorus, volumetric, banknotesmany, absurdity, kiss, psychologist, mathopen, hulse, cox, alfonso, weinberg, brands, artillery, merely, matricesmany, execution, semiperimeter, mrowka, moorish, trivially, nail, enrich, sinusoidally, pitman, chi, talairach, canvas, approximationsastronomer, norman, mariner, confines, vectorsin, methodology, attest, overbounding, sec, propertiesin, seemingly, accounting, delegated, affirmatively, toolbox, lieblich, heliocentric, sheavesfor, quantifiable, covering, mathematicsin, cancellation, radians, auckly, kamil, sixfold, qualification, tera, qhull, hippocrates, anniversary, wobbliness, parallelity, maurice, st채llas, morphogenesis, arcminute, status, eliashberg, january, fr책gan, command, disputationum, volovich, deliberately, rembrandt, morozov, diffuse, comparatively, chordal, orrery, mineralogist, sgp, bruce, interline, subsymmetry, lansing, advected, nebula, versus, jmath, subcategory, soon, curious, standardization, niki, bott, articulate, retrace, postulates, keenan, etymologythe, chaim, displaced, carpet, frus, splines, judith, exaggerate, isovist, quasicrystalline, missing, grove, fano, polylog, keiichi, metaphysical, murez, spaceshahlomaa, maybe, highlight, mitigate, niclas, rigorous, pointsline, iucr, eddington, denumerable, difficulty, hafver, switching, cantitruncated, changethe, j채mnv채l, schweben, jaroslav, calculated, lexicographical, craig, overlook, misunderstanding, ahlfors, developmentsapplication, convector, hain, clarify, nearness, countercyclically, realm, mustg, hodograph, acceleration, austrian, autonomous, mtex, carbon, guitar, anywhere, delaunay, jacobi, lipschitzeomorphism, stressed, amodal, googlebooks, misspecification, donut, animations, laurentini, uniformity, cba, historythe, mathematische]"
      ]
     },
     "execution_count": 20,
     "metadata": {},
     "output_type": "execute_result"
    }
   ],
   "source": [
    "val termIds: Array[String] = vocabModel.vocabulary\n",
    "val docIds = docTermFreqs.rdd.map(_.getString(0)).\n",
    "    zipWithUniqueId().\n",
    "    map(_.swap).\n",
    "    collect().toMap"
   ]
  },
  {
   "cell_type": "code",
   "execution_count": 21,
   "metadata": {},
   "outputs": [
    {
     "data": {
      "text/plain": [
       "vecRdd = MapPartitionsRDD[83] at map at <console>:90\n"
      ]
     },
     "metadata": {},
     "output_type": "display_data"
    },
    {
     "data": {
      "text/plain": [
       "import org.apache.spark.mllib.linalg.{Vectors, Vector=>MLLibVector}\n",
       "import org.apache.spark.ml.linalg.{Vector=>MLVector}\n"
      ]
     },
     "metadata": {},
     "output_type": "display_data"
    },
    {
     "data": {
      "text/plain": [
       "MapPartitionsRDD[83] at map at <console>:90"
      ]
     },
     "execution_count": 21,
     "metadata": {},
     "output_type": "execute_result"
    }
   ],
   "source": [
    "import org.apache.spark.mllib.linalg.{Vectors, Vector => MLLibVector}\n",
    "import org.apache.spark.ml.linalg.{Vector => MLVector}\n",
    "\n",
    "val vecRdd = docTermMatrix.select(\"tfidfVec\").rdd.map { row =>\n",
    "Vectors.fromML(row.getAs[MLVector](\"tfidfVec\"))\n",
    "}"
   ]
  },
  {
   "cell_type": "code",
   "execution_count": 23,
   "metadata": {},
   "outputs": [
    {
     "data": {
      "text/plain": [
       "mat = org.apache.spark.mllib.linalg.distributed.RowMatrix@58ec6685\n",
       "k = 500\n",
       "svd = \n"
      ]
     },
     "metadata": {},
     "output_type": "display_data"
    },
    {
     "data": {
      "text/plain": [
       "SingularValueDecomposition(org.apache.spark.mllib.linalg.distributed.RowMatrix@1332039c,[845.2081084228365,609.1529753442101,564.6842643607005,559.2101423778738,548.6553995067528,511.23835814491963,412.766007478415,396.46555528730244,383.7185271255755,361.88530372314835,351.4536347936699,347.52809499198906,313.76997937231926,301.0098322022394,279.7090081178422,273.9884177657833,257.5025249407732,256.6486689028055,249.90770671283562,242.94415656687...\n"
      ]
     },
     "metadata": {},
     "output_type": "display_data"
    },
    {
     "data": {
      "text/plain": [
       "SingularValueDecomposition(org.apache.spark.mllib.linalg.distributed.RowMatrix@1332039c,[845.2081084228365,609.1529753442101,564.6842643607005,559.2101423778738,548.6553995067528,511.23835814491963,412.766007478415,396.46555528730244,383.7185271255755,361.88530372314835,351.4536347936699,347.52809499198906,313.76997937231926,301.0098322022394,279.7090081178422,273.9884177657833,257.5025249407732,256.6486689028055,249.90770671283562,242.94415656687787,241.8770035807372,238.1180788498697,227.9874061122662,209.13587030589542,205.13247881494334,200.41149720090746,196.58460381900608,193.7084225440146,192.45282980834148,189.3903549447565,182.35934820762256,176.25358929355565,172.57082138398408,171.86483435787997,170.24022865017707,168.31574943817614,160.42514979966646,155.68829790296473,152.02583484035569,149.70830942840445,145.97376154868638,143.0426251587742,141.10692714671222,137.46051101553994,135.519354354505,134.38431724477604,134.0179617373645,121.00365757209244,120.40521192082304,116.81753218968015,115.53110678355493,114.36794272457801,112.47611603254393,108.84429843732194,106.98425473363999,102.25056378713279,101.78883960637707,101.16685840094402,100.67900947111671,99.50013942249095,97.83081122715528,97.31420077993056,96.81632250703962,92.7374874359606,90.9442258836999,88.87411235783239,87.94621325924881,84.49907408582348,83.79825532130104,83.21360797249969,82.0891796187882,79.94168745932187,79.4238329072781,78.81321589165837,78.39190167949148,77.54298732928079,76.96202996404962,75.80468322525228,75.33535234726394,74.67063419014119,73.34660166296933,72.64775413208982,71.81245873563752,70.6801319155993,69.62675982015591,67.45860288846082,65.9729651705786,65.63206457563034,64.7294145057995,63.230623295337196,60.59720808036096,58.632475604800234,58.364649337260424,57.56012437609437,56.07159849523652,55.12714975337894,54.35540855676165,53.49946262095676,52.937981011369494,52.71591511627908,49.54353961707685,49.06990632983792,47.96775481009676,45.683753932701265,44.95866530722006,43.62926371012717,43.05966628585642,42.46359550617219,42.20109675231717,41.413546365591436,41.235104474834685,39.49308798631481,39.09148095775784,38.22045475885567,37.71290164082098,36.44803292701752,35.457939277612795,33.226647849686586,32.65470638082812,32.14926317953811,31.275377910712024,30.125878476886676,30.033382275106568,29.876063008146204,28.53342683814191,25.622619562833265,24.40512256109314,23.76654090002091,21.752944952751303,20.581308666401938,19.235055456682478,18.88535784980332,18.471367203894822,18.093736107352388,16.364739724092463,15.931601261425161,15.517407597410601,14.390761921474164,14.272302294776276,14.05852930240349,13.777258399589414,13.355283689535918,12.278161888292349,11.921513045393086,10.669191009448811,9.467749005518005,8.924116386552917,8.07583280245166,7.020127672496858,4.5060799642578155,4.186918063437135,4.034433434121543,3.853660356245788,3.5313291644263285,3.514562322953164,3.3096796209263704,3.0621357597050256,2.763397942506095,2.613744662259604,2.550546463883939,2.4188370893855424,2.2642556427447076,2.154711719403975,2.103907609991147,1.8269471387551002,1.6361583084872258,1.4508337930107909,1.2391211819306198,0.472739706133661,7.153938318091029E-6],0.04580382170449646   0.06831282649933393     ... (170 total)\n",
       "0.012696047967362595  0.016457141790902012    ...\n",
       "0.09308012511895505   0.1242796995611976      ...\n",
       "0.029370274024062032  0.07652873768204094     ...\n",
       "0.01780009590504433   0.028535076852856323    ...\n",
       "0.026529344968945243  0.035469638693026516    ...\n",
       "0.16567146221289678   -0.006159283267787454   ...\n",
       "0.026535930165565137  0.03356675410938705     ...\n",
       "0.03166521599045097   0.03302494749550044     ...\n",
       "0.08958819638406806   0.06782503087477677     ...\n",
       "0.02746825174230272   0.02776535032551785     ...\n",
       "0.177265327610354     -0.10207329388400406    ...\n",
       "0.02192697861769052   0.0262825859146063      ...\n",
       "0.14846417444841867   0.1243483094022498      ...\n",
       "0.010226347414363495  0.014846742912238066    ...\n",
       "0.06871965119635312   0.004956201027551302    ...\n",
       "0.018595176279169148  0.04547899157349399     ...\n",
       "0.1032648800701144    -0.057457369027567796   ...\n",
       "0.048920532771003444  0.016403176048493423    ...\n",
       "0.0426689560049688    0.019996142682072796    ...\n",
       "0.05766497033402482   0.08829470895471728     ...\n",
       "0.17171520756112904   -0.07422734902159231    ...\n",
       "0.17017699711625997   0.05962746438347486     ...\n",
       "0.07827934376501819   0.08050606738991928     ...\n",
       "0.11014381412804208   0.024992071360909897    ...\n",
       "0.10897825503315492   -0.04826297034147649    ...\n",
       "0.03217501376731421   0.017783717732728084    ...\n",
       "0.09998186355727187   -0.025425787068219425   ...\n",
       "0.04580280345847465   0.016484488372068548    ...\n",
       "0.0481504165883971    0.06475090397634656     ...\n",
       "0.013709791068926086  0.012015043823211443    ...\n",
       "0.03163151124842563   0.022703689503965837    ...\n",
       "0.03289366485326946   0.03428248058107716     ...\n",
       "0.012638174670644143  0.024494691080121984    ...\n",
       "0.05958634767225267   0.1198263661435032      ...\n",
       "0.02060082634310615   0.02923031323163549     ...\n",
       "0.017223865486602707  0.039768418294601746    ...\n",
       "0.011616661817388477  0.011729121547897726    ...\n",
       "0.10152878478522491   0.2637641563882057      ...\n",
       "0.026753689273085607  0.07952247753505513     ...\n",
       "0.03420485769457355   0.0583703807190879      ...\n",
       "0.04253814181294912   -0.01986683091857483    ...\n",
       "0.18946788763805247   0.11127196293376392     ...\n",
       "0.01455711044267842   0.034281622692069816    ...\n",
       "0.022703658627504123  0.027316382583939796    ...\n",
       "0.010570489666140432  0.008333834242640524    ...\n",
       "0.016015996528713196  0.01844742982133265     ...\n",
       "0.05155513367922311   0.021095937963272103    ...\n",
       "0.021029890571780063  0.035608794076651885    ...\n",
       "0.1648509321196198    -0.11836812221198349    ...\n",
       "0.033100679810245205  0.016409174428608862    ...\n",
       "0.012096871762206007  0.01790728721524069     ...\n",
       "0.015190910209124251  0.013539988688864316    ...\n",
       "0.04437936240909399   -0.0072462165261830865  ...\n",
       "0.08166154291645479   0.07887984076914822     ...\n",
       "0.023175959052224818  0.035921528116073326    ...\n",
       "0.04945411476571427   0.04957206321378292     ...\n",
       "0.03821919289882049   0.04791237720443844     ...\n",
       "0.03385252443904532   0.03282915826412759     ...\n",
       "0.08215758852582876   -0.02725555162348281    ...\n",
       "0.0487244678913374    -0.003396278706627406   ...\n",
       "0.03962158149613938   0.04468527893991189     ...\n",
       "0.033556803125137084  0.016149182918189238    ...\n",
       "0.023627488709693868  0.03952671578581742     ...\n",
       "0.03338378032036059   0.06381624186623469     ...\n",
       "0.18218295306454493   -0.11383594313875332    ...\n",
       "0.061903866046995534  -0.018160678580340553   ...\n",
       "0.015097154759264902  0.023212001503104707    ...\n",
       "0.06801949054760144   -0.02454597028237842    ...\n",
       "0.03541432670008532   0.0012945599320680692   ...\n",
       "0.02754755268786728   -0.0037036659765381855  ...\n",
       "0.02030177804774313   0.036808388431668324    ...\n",
       "0.16442047968421145   -0.12275117335510762    ...\n",
       "0.004416962583388293  0.008114764278083272    ...\n",
       "0.01977529172787943   0.020886156124627908    ...\n",
       "0.045384503963697975  -0.016825207865331      ...\n",
       "0.010335487080261075  0.015229860186623362    ...\n",
       "0.03147586460675587   0.028561831424283732    ...\n",
       "0.0281017332334502    0.009511099581622875    ...\n",
       "... (7022 total))"
      ]
     },
     "execution_count": 23,
     "metadata": {},
     "output_type": "execute_result"
    }
   ],
   "source": [
    "import org.apache.spark.mllib.linalg.distributed.RowMatrix\n",
    "\n",
    "vecRdd.cache()\n",
    "val mat = new RowMatrix(vecRdd)\n",
    "val k = 500\n",
    "val svd = mat.computeSVD(k, computeU=true)"
   ]
  },
  {
   "cell_type": "code",
   "execution_count": 24,
   "metadata": {},
   "outputs": [
    {
     "data": {
      "text/plain": [
       "topTermsInTopConcepts: (svd: org.apache.spark.mllib.linalg.SingularValueDecomposition[org.apache.spark.mllib.linalg.distributed.RowMatrix,org.apache.spark.mllib.linalg.Matrix], numConcepts: Int, numTerms: Int, termIds: Array[String])Seq[Seq[(String, Double)]]\n"
      ]
     },
     "metadata": {},
     "output_type": "display_data"
    }
   ],
   "source": [
    "import org.apache.spark.mllib.linalg.{Matrix,\n",
    "SingularValueDecomposition}\n",
    "import org.apache.spark.mllib.linalg.distributed.RowMatrix\n",
    "\n",
    "def topTermsInTopConcepts(\n",
    "svd: SingularValueDecomposition[RowMatrix, Matrix],\n",
    "numConcepts: Int,\n",
    "numTerms: Int, termIds: Array[String])\n",
    ": Seq[Seq[(String, Double)]] = {\n",
    "val v = svd.V\n",
    "val topTerms = new ArrayBuffer[Seq[(String, Double)]]()\n",
    "val arr = v.toArray\n",
    "for (i <- 0 until numConcepts) {\n",
    "    val offs = i * v.numRows\n",
    "    val termWeights = arr.slice(offs, offs + v.numRows).zipWithIndex\n",
    "    val sorted = termWeights.sortBy(-_._1)\n",
    "    topTerms += sorted.take(numTerms).map {\n",
    "        case (score, id) => (termIds(id), score)\n",
    "    }\n",
    "}\n",
    "topTerms\n",
    "}"
   ]
  },
  {
   "cell_type": "code",
   "execution_count": 25,
   "metadata": {},
   "outputs": [
    {
     "data": {
      "text/plain": [
       "topDocsInTopConcepts: (svd: org.apache.spark.mllib.linalg.SingularValueDecomposition[org.apache.spark.mllib.linalg.distributed.RowMatrix,org.apache.spark.mllib.linalg.Matrix], numConcepts: Int, numDocs: Int, docIds: Map[Long,String])Seq[Seq[(String, Double)]]\n"
      ]
     },
     "metadata": {},
     "output_type": "display_data"
    }
   ],
   "source": [
    "def topDocsInTopConcepts(\n",
    "svd: SingularValueDecomposition[RowMatrix, Matrix],\n",
    "numConcepts: Int, numDocs: Int, docIds:Map[Long, String])\n",
    ": Seq[Seq[(String, Double)]]= {\n",
    "val u = svd.U\n",
    "val topDocs = new ArrayBuffer[Seq[(String, Double)]]()\n",
    "for (i <- 0 until numConcepts) {\n",
    "    val docWeights = u.rows.map(_.toArray(i)).zipWithUniqueId()\n",
    "    topDocs += docWeights.top(numDocs).map{\n",
    "        case (score, id) => (docIds(id), score)\n",
    "    }\n",
    "}\n",
    "topDocs\n",
    "}"
   ]
  },
  {
   "cell_type": "code",
   "execution_count": 26,
   "metadata": {},
   "outputs": [
    {
     "name": "stdout",
     "output_type": "stream",
     "text": [
      "Concept terms: anatomy, geodesic, phi, mathcal, cdot, metric\n",
      "Concept docs: Computational anatomy, Minkowski space, Busemann function, Large deformation diffeomorphic metric mapping, Riemannian metric and Lie bracket in computational anatomy, Bayesian model of computational anatomy\n",
      "\n",
      "Concept terms: minkowski, spacetime, gamma, bmatrix, hadamard, busemann\n",
      "Concept docs: Minkowski space, Busemann function, Minkowski diagram, Schema for horizontal dials, Snub (geometry), Line moir챕\n",
      "\n",
      "Concept terms: bmatrix, snub, minkowski, spacetime, begin, end\n",
      "Concept docs: Snub (geometry), Minkowski space, Minkowski diagram, Complex reflection group, Minkowski plane, Point-normal triangle\n",
      "\n",
      "Concept terms: svg, dial, file, hour, method, line\n",
      "Concept docs: Schema for horizontal dials, Line moir챕, Moir챕 pattern, Str채hle construction, Fat object, Vertical and horizontal\n",
      "\n",
      "Concept terms: bmatrix, snub, geodesic, begin, end, coxeter\n",
      "Concept docs: Snub (geometry), Busemann function, Schema for horizontal dials, Complex reflection group, Computational anatomy, Finite subdivision rule\n",
      "\n",
      "Concept terms: svg, dial, hour, file, minkowski, vector\n",
      "Concept docs: Schema for horizontal dials, Minkowski space, Superspace, Computational anatomy, Complex reflection group, Busemann function\n",
      "\n"
     ]
    },
    {
     "data": {
      "text/plain": [
       "topConceptTerms = ArrayBuffer(ArraySeq((anatomy,0.2370458357671324), (geodesic,0.18946788763805247), (phi,0.18218295306454493), (mathcal,0.177265327610354), (cdot,0.17171520756112904), (metric,0.17017699711625997)), ArraySeq((minkowski,0.2637641563882057), (spacetime,0.17702276632479763), (gamma,0.16072211011332263), (bmatrix,0.1458341532272791), (hadamard,0.13719945753418727), (busemann,0.12752595423413346)), ArraySeq((bmatrix,0.4180199621287827), (snub,0.28107742163330224), (minkowski,0.19522822303902018), (spacetime,0.1330910386163647), (begin,0.1259199911021497), (end,0.12156075346744166)), ArraySeq((svg,0.4775750506383046), (dial,0.3253047446376867), (file,0.32116420133820234), (hour,0.3041183093033518), (method,0.1475527676710171), (line,0.1447118755043...\n"
      ]
     },
     "metadata": {},
     "output_type": "display_data"
    },
    {
     "data": {
      "text/plain": [
       "ArrayBuffer(ArraySeq((anatomy,0.2370458357671324), (geodesic,0.18946788763805247), (phi,0.18218295306454493), (mathcal,0.177265327610354), (cdot,0.17171520756112904), (metric,0.17017699711625997)), ArraySeq((minkowski,0.2637641563882057), (spacetime,0.17702276632479763), (gamma,0.16072211011332263), (bmatrix,0.1458341532272791), (hadamard,0.13719945753418727), (busemann,0.12752595423413346)), ArraySeq((bmatrix,0.4180199621287827), (snub,0.28107742163330224), (minkowski,0.19522822303902018), (spacetime,0.1330910386163647), (begin,0.1259199911021497), (end,0.12156075346744166)), ArraySeq((svg,0.4775750506383046), (dial,0.3253047446376867), (file,0.32116420133820234), (hour,0.3041183093033518), (method,0.1475527676710171), (line,0.14471187550436101)), ArraySeq((bmatrix,0.577315918838535), (snub,0.4134911083923771), (geodesic,0.16254455611126556), (begin,0.15254691608233586), (end,0.14988968096313698), (coxeter,0.1481086058702459)), ArraySeq((svg,0.1736657819683541), (dial,0.11829408336974817), (hour,0.11024061787195566), (file,0.11001457619658775), (minkowski,0.0701870264796457), (vector,0.057271704662138455)))"
      ]
     },
     "execution_count": 26,
     "metadata": {},
     "output_type": "execute_result"
    }
   ],
   "source": [
    "val topConceptTerms = topTermsInTopConcepts(svd, 6, 6, termIds)\n",
    "val topConceptDocs = topDocsInTopConcepts(svd, 6, 6, docIds)\n",
    "for ((terms, docs) <- topConceptTerms.zip(topConceptDocs)){\n",
    "    println(\"Concept terms: \" + terms.map(_._1).mkString(\", \"))\n",
    "    println(\"Concept docs: \" + docs.map(_._1).mkString(\", \"))\n",
    "    println()\n",
    "}"
   ]
  }
 ],
 "metadata": {
  "kernelspec": {
   "display_name": "Apache Toree - Scala",
   "language": "scala",
   "name": "apache_toree_scala"
  },
  "language_info": {
   "codemirror_mode": "text/x-scala",
   "file_extension": ".scala",
   "mimetype": "text/x-scala",
   "name": "scala",
   "pygments_lexer": "scala",
   "version": "2.11.8"
  }
 },
 "nbformat": 4,
 "nbformat_minor": 2
}
