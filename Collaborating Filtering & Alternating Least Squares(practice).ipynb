{
 "cells": [
  {
   "cell_type": "code",
   "execution_count": 1,
   "metadata": {},
   "outputs": [
    {
     "data": {
      "text/html": [
       "<ul>\n",
       "<li><a href=\"Some(http://74107bd78b99:4040)\" target=\"new_tab\">Spark UI: local-1538319086835</a></li>\n",
       "</ul>"
      ],
      "text/plain": [
       "Spark local-1538319086835: Some(http://74107bd78b99:4040)"
      ]
     },
     "execution_count": 1,
     "metadata": {},
     "output_type": "execute_result"
    }
   ],
   "source": [
    "sc"
   ]
  },
  {
   "cell_type": "code",
   "execution_count": 2,
   "metadata": {},
   "outputs": [],
   "source": [
    "import org.apache.spark.ml.evaluation.RegressionEvaluator\n",
    "import org.apache.spark.ml.recommendation.ALS"
   ]
  },
  {
   "cell_type": "code",
   "execution_count": 7,
   "metadata": {},
   "outputs": [
    {
     "data": {
      "text/plain": [
       "artist = user_artist_data.txt MapPartitionsRDD[5] at textFile at <console>:29\n"
      ]
     },
     "metadata": {},
     "output_type": "display_data"
    },
    {
     "data": {
      "text/plain": [
       "user_artist_data.txt MapPartitionsRDD[5] at textFile at <console>:29"
      ]
     },
     "execution_count": 7,
     "metadata": {},
     "output_type": "execute_result"
    }
   ],
   "source": [
    "val artist = sc.textFile(\"user_artist_data.txt\")"
   ]
  },
  {
   "cell_type": "code",
   "execution_count": 8,
   "metadata": {},
   "outputs": [
    {
     "data": {
      "text/plain": [
       "1000002 1 55"
      ]
     },
     "execution_count": 8,
     "metadata": {},
     "output_type": "execute_result"
    }
   ],
   "source": [
    "artist.first()"
   ]
  },
  {
   "cell_type": "code",
   "execution_count": 11,
   "metadata": {},
   "outputs": [
    {
     "data": {
      "text/plain": [
       "ua = [_c0: int, _c1: int ... 1 more field]\n"
      ]
     },
     "metadata": {},
     "output_type": "display_data"
    },
    {
     "data": {
      "text/plain": [
       "lastException: Throwable = null\n"
      ]
     },
     "metadata": {},
     "output_type": "display_data"
    },
    {
     "data": {
      "text/plain": [
       "[_c0: int, _c1: int ... 1 more field]"
      ]
     },
     "execution_count": 11,
     "metadata": {},
     "output_type": "execute_result"
    }
   ],
   "source": [
    "val ua = spark.read.\n",
    "    option(\"inferSchema\",\"true\").\n",
    "    option(\"header\",\"false\").\n",
    "    option(\"delimiter\",\" \").\n",
    "    csv(\"user_artist_data.txt\")"
   ]
  },
  {
   "cell_type": "code",
   "execution_count": 12,
   "metadata": {},
   "outputs": [
    {
     "data": {
      "text/plain": [
       "[1000002,1,55]"
      ]
     },
     "execution_count": 12,
     "metadata": {},
     "output_type": "execute_result"
    }
   ],
   "source": [
    "ua.head()"
   ]
  },
  {
   "cell_type": "code",
   "execution_count": 13,
   "metadata": {},
   "outputs": [
    {
     "name": "stdout",
     "output_type": "stream",
     "text": [
      "root\n",
      " |-- _c0: integer (nullable = true)\n",
      " |-- _c1: integer (nullable = true)\n",
      " |-- _c2: integer (nullable = true)\n",
      "\n"
     ]
    }
   ],
   "source": [
    "ua.printSchema()"
   ]
  },
  {
   "cell_type": "code",
   "execution_count": 18,
   "metadata": {},
   "outputs": [
    {
     "data": {
      "text/plain": [
       "userArtistDF = [user: int, artist: int ... 1 more field]\n"
      ]
     },
     "metadata": {},
     "output_type": "display_data"
    },
    {
     "data": {
      "text/plain": [
       "[user: int, artist: int ... 1 more field]"
      ]
     },
     "execution_count": 18,
     "metadata": {},
     "output_type": "execute_result"
    }
   ],
   "source": [
    "val userArtistDF = ua.toDF(\"user\",\"artist\",\"count\")"
   ]
  },
  {
   "cell_type": "code",
   "execution_count": 22,
   "metadata": {},
   "outputs": [
    {
     "data": {
      "text/plain": [
       "smallUserArtistDF = [user: int, artist: int ... 1 more field]\n"
      ]
     },
     "metadata": {},
     "output_type": "display_data"
    },
    {
     "data": {
      "text/plain": [
       "[user: int, artist: int ... 1 more field]"
      ]
     },
     "execution_count": 22,
     "metadata": {},
     "output_type": "execute_result"
    }
   ],
   "source": [
    "val smallUserArtistDF = userArtistDF.sample(false,0.001)"
   ]
  },
  {
   "cell_type": "code",
   "execution_count": 23,
   "metadata": {},
   "outputs": [
    {
     "data": {
      "text/plain": [
       "training = [user: int, artist: int ... 1 more field]\n",
       "test = [user: int, artist: int ... 1 more field]\n"
      ]
     },
     "metadata": {},
     "output_type": "display_data"
    },
    {
     "data": {
      "text/plain": [
       "[user: int, artist: int ... 1 more field]"
      ]
     },
     "execution_count": 23,
     "metadata": {},
     "output_type": "execute_result"
    }
   ],
   "source": [
    "val Array(training, test) = smallUserArtistDF.randomSplit(Array(0.8,0.2))"
   ]
  },
  {
   "cell_type": "code",
   "execution_count": 24,
   "metadata": {},
   "outputs": [
    {
     "data": {
      "text/plain": [
       "19209"
      ]
     },
     "execution_count": 24,
     "metadata": {},
     "output_type": "execute_result"
    }
   ],
   "source": [
    "training.count()"
   ]
  },
  {
   "cell_type": "code",
   "execution_count": 25,
   "metadata": {},
   "outputs": [
    {
     "data": {
      "text/plain": [
       "4785"
      ]
     },
     "execution_count": 25,
     "metadata": {},
     "output_type": "execute_result"
    }
   ],
   "source": [
    "test.count()"
   ]
  },
  {
   "cell_type": "code",
   "execution_count": 26,
   "metadata": {},
   "outputs": [
    {
     "data": {
      "text/plain": [
       "als = als_61a34f59e74e\n"
      ]
     },
     "metadata": {},
     "output_type": "display_data"
    },
    {
     "data": {
      "text/plain": [
       "als_61a34f59e74e"
      ]
     },
     "execution_count": 26,
     "metadata": {},
     "output_type": "execute_result"
    }
   ],
   "source": [
    "val als = new ALS().\n",
    "        setMaxIter(10).\n",
    "        setRegParam(0.01).\n",
    "        setUserCol(\"user\").\n",
    "        setItemCol(\"artist\").\n",
    "        setRatingCol(\"count\")"
   ]
  },
  {
   "cell_type": "code",
   "execution_count": 27,
   "metadata": {},
   "outputs": [
    {
     "data": {
      "text/plain": [
       "model = als_61a34f59e74e\n"
      ]
     },
     "metadata": {},
     "output_type": "display_data"
    },
    {
     "data": {
      "text/plain": [
       "als_61a34f59e74e"
      ]
     },
     "execution_count": 27,
     "metadata": {},
     "output_type": "execute_result"
    }
   ],
   "source": [
    "val model = als.fit(training)"
   ]
  },
  {
   "cell_type": "code",
   "execution_count": 28,
   "metadata": {},
   "outputs": [
    {
     "data": {
      "text/plain": [
       "predictions = [user: int, artist: int ... 2 more fields]\n"
      ]
     },
     "metadata": {},
     "output_type": "display_data"
    },
    {
     "data": {
      "text/plain": [
       "[user: int, artist: int ... 2 more fields]"
      ]
     },
     "execution_count": 28,
     "metadata": {},
     "output_type": "execute_result"
    }
   ],
   "source": [
    "val predictions = model.transform(test)"
   ]
  },
  {
   "cell_type": "code",
   "execution_count": 29,
   "metadata": {},
   "outputs": [
    {
     "name": "stdout",
     "output_type": "stream",
     "text": [
      "+-------+--------+-----+------------+\n",
      "|   user|  artist|count|  prediction|\n",
      "+-------+--------+-----+------------+\n",
      "|   1429| 6894588|    1|         NaN|\n",
      "|   3334| 1238856|   11|         NaN|\n",
      "|   6674|     699|    1|         NaN|\n",
      "|   6937| 1006283|    7|         NaN|\n",
      "|   7275|10418388|    1|         NaN|\n",
      "|   7275| 1010592|    1| -0.22956197|\n",
      "|   8618| 1075138|    1|         NaN|\n",
      "|   8815|10336349|    2|         NaN|\n",
      "|   9189| 1028392|    1|         NaN|\n",
      "|  15716|    3278|    1|         NaN|\n",
      "|  16123| 1004189|    2|         NaN|\n",
      "|1000019| 1039685|    1|         NaN|\n",
      "|1000077| 1005229|   28|         NaN|\n",
      "|1000116| 1103336|    2|         NaN|\n",
      "|1000180| 1050642|    1|         NaN|\n",
      "|1000225| 1247943|    2|         NaN|\n",
      "|1000327| 1006160|    1|         NaN|\n",
      "|1000327| 1044445|    2|         NaN|\n",
      "|1000375| 1100454|   10|         NaN|\n",
      "|1000395| 1010154|   29|  -1.3902578|\n",
      "|1000395| 1063612|    1|         NaN|\n",
      "|1000488| 1006185|    1|         NaN|\n",
      "|1000507| 1002097|    1|         NaN|\n",
      "|1000557| 1000416|   93|    7.746729|\n",
      "|1000586| 1268098|   13|-0.028405845|\n",
      "|1000606| 1057563|   30|         NaN|\n",
      "|1000647| 1000112|   15|         NaN|\n",
      "|1000689| 1006185|   33|         NaN|\n",
      "|1000717| 1002627|    1|   5.7487764|\n",
      "|1000786|     813|    7|   -24.82349|\n",
      "|1000793| 1000894|    1|         NaN|\n",
      "|1000822| 1052180|    1|         NaN|\n",
      "|1000877| 6798983|    1|         NaN|\n",
      "|1000882|    4623|    1|  -0.7803929|\n",
      "|1000911|     985|    1|         NaN|\n",
      "|1000959|    5606|   22|   -28.99121|\n",
      "|1001012|    1433|    1|         NaN|\n",
      "|1001028| 1009124|   22|         NaN|\n",
      "|1001051| 1060581|    1|         NaN|\n",
      "|1001069| 1003968|    4|         NaN|\n",
      "|1001144|    2000|    1|         NaN|\n",
      "|1001174| 1267233|    2|         NaN|\n",
      "|1001209| 1060876|    2|         NaN|\n",
      "|1001220| 1003017|   10|         NaN|\n",
      "|1001223| 1007498|   84|         NaN|\n",
      "|1001249| 6694932|   10|         NaN|\n",
      "|1001298| 1022845|    1|         NaN|\n",
      "|1001305|    4246|    3|  -6.0910325|\n",
      "|1001327| 1037970|    2|         NaN|\n",
      "|1001357|     437|  499|    61.29988|\n",
      "|1001408| 1019226|   39|         NaN|\n",
      "|1001413| 1022265|    1|         NaN|\n",
      "|1001437| 1021878|    1|         NaN|\n",
      "|1001450| 1171973|    1|         NaN|\n",
      "|1001552| 1004015|   77| 0.014505317|\n",
      "|1001552| 1001019|    4| -0.59487796|\n",
      "|1001568| 1009920|    1|         NaN|\n",
      "|1001572|     153|  446|   48.808434|\n",
      "|1001606|     352|   12|         NaN|\n",
      "|1001674|    4449|    9|         NaN|\n",
      "|1001747| 1239168|   14|         NaN|\n",
      "|1001776| 1008818|    1|         NaN|\n",
      "|1001777| 9899159|    2|         NaN|\n",
      "|1001907| 1005595|    9|         NaN|\n",
      "|1001919|    5692|    1|   7.0435305|\n",
      "|1001956| 1018153|    2|         NaN|\n",
      "|1001969| 1000033|   10|         NaN|\n",
      "|1002037| 1281691|    1|         NaN|\n",
      "|1002045|    4053|    6|         NaN|\n",
      "|1002080|     979|    1|         NaN|\n",
      "|1002083| 6645051|   18|         NaN|\n",
      "|1002098| 1086456|    1|         NaN|\n",
      "|1002167| 1000639|   20|         NaN|\n",
      "|1002185| 1018168|   11|  -0.4330481|\n",
      "|1002213|10359999|    1|         NaN|\n",
      "|1002276|     242|   18| -0.35730913|\n",
      "|1002345|    4078|    6|         NaN|\n",
      "|1002374| 1008228|    2|         NaN|\n",
      "|1002380| 1049809|    2|         NaN|\n",
      "|1002389| 1123168|    1|         NaN|\n",
      "|1002412| 1000707|    1|         NaN|\n",
      "|1002422| 1005150|    2|  0.28465286|\n",
      "|1002472| 1000525|    4|         NaN|\n",
      "|1002499| 1003709|    3|         NaN|\n",
      "|1002648| 1069825|    3|         NaN|\n",
      "|1002705| 1007027|    1|         NaN|\n",
      "|1002705| 1001887|    6|         NaN|\n",
      "|1002728| 1008851|    1|         NaN|\n",
      "|1002778|    1413|    1|         NaN|\n",
      "|1002815| 1092761|    1|         NaN|\n",
      "|1002823|    1981|    1|         NaN|\n",
      "|1002824| 1234433|    1|         NaN|\n",
      "|1002889| 1057175|    2|         NaN|\n",
      "|1002933| 1004412|    5|         NaN|\n",
      "|1002940| 1006213|    2|    6.318678|\n",
      "|1003017| 1177787|    1|         NaN|\n",
      "|1003077| 1092063|    1|         NaN|\n",
      "|1003243| 1065064|    1|         NaN|\n",
      "|1003248|     463|    5|         NaN|\n",
      "|1003281| 2046350|    2|         NaN|\n",
      "+-------+--------+-----+------------+\n",
      "only showing top 100 rows\n",
      "\n"
     ]
    }
   ],
   "source": [
    "predictions.sort(\"user\").show(100)"
   ]
  }
 ],
 "metadata": {
  "kernelspec": {
   "display_name": "Apache Toree - Scala",
   "language": "scala",
   "name": "apache_toree_scala"
  },
  "language_info": {
   "codemirror_mode": "text/x-scala",
   "file_extension": ".scala",
   "mimetype": "text/x-scala",
   "name": "scala",
   "pygments_lexer": "scala",
   "version": "2.11.8"
  }
 },
 "nbformat": 4,
 "nbformat_minor": 2
}
