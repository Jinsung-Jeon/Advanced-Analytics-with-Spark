{
 "cells": [
  {
   "cell_type": "code",
   "execution_count": 1,
   "metadata": {},
   "outputs": [],
   "source": [
    "import org.apache.spark.ml.{PipelineModel, Pipeline}\n",
    "import org.apache.spark.ml.classification.{DecisionTreeClassifier, RandomForestClassifier, RandomForestClassificationModel}\n",
    "import org.apache.spark.ml.evaluation.MulticlassClassificationEvaluator\n",
    "import org.apache.spark.ml.feature.{VectorAssembler, VectorIndexer}\n",
    "import org.apache.spark.ml.linalg.Vector\n",
    "import org.apache.spark.ml.tuning.{ParamGridBuilder, TrainValidationSplit}\n",
    "import org.apache.spark.mllib.evaluation.MulticlassMetrics\n",
    "import org.apache.spark.sql.{DataFrame, SparkSession}\n",
    "import org.apache.spark.sql.functions._\n",
    "import scala.util.Random"
   ]
  },
  {
   "cell_type": "code",
   "execution_count": 2,
   "metadata": {},
   "outputs": [
    {
     "data": {
      "text/plain": [
       "dataWithoutHeader = [_c0: int, _c1: int ... 53 more fields]\n"
      ]
     },
     "metadata": {},
     "output_type": "display_data"
    },
    {
     "data": {
      "text/plain": [
       "[_c0: int, _c1: int ... 53 more fields]"
      ]
     },
     "execution_count": 2,
     "metadata": {},
     "output_type": "execute_result"
    }
   ],
   "source": [
    "val dataWithoutHeader = spark.read.\n",
    "    option(\"inferSchema\",true).\n",
    "    option(\"header\",false).\n",
    "    csv(\"covtype.data\")"
   ]
  },
  {
   "cell_type": "code",
   "execution_count": 3,
   "metadata": {},
   "outputs": [
    {
     "data": {
      "text/plain": [
       "[2596,51,3,258,0,510,221,232,148,6279,1,0,0,0,0,0,0,0,0,0,0,0,0,0,0,0,0,0,0,0,0,0,0,0,0,0,0,0,0,0,0,0,1,0,0,0,0,0,0,0,0,0,0,0,5]"
      ]
     },
     "execution_count": 3,
     "metadata": {},
     "output_type": "execute_result"
    }
   ],
   "source": [
    "dataWithoutHeader.first"
   ]
  },
  {
   "cell_type": "code",
   "execution_count": 4,
   "metadata": {},
   "outputs": [
    {
     "name": "stdout",
     "output_type": "stream",
     "text": [
      "root\n",
      " |-- _c0: integer (nullable = true)\n",
      " |-- _c1: integer (nullable = true)\n",
      " |-- _c2: integer (nullable = true)\n",
      " |-- _c3: integer (nullable = true)\n",
      " |-- _c4: integer (nullable = true)\n",
      " |-- _c5: integer (nullable = true)\n",
      " |-- _c6: integer (nullable = true)\n",
      " |-- _c7: integer (nullable = true)\n",
      " |-- _c8: integer (nullable = true)\n",
      " |-- _c9: integer (nullable = true)\n",
      " |-- _c10: integer (nullable = true)\n",
      " |-- _c11: integer (nullable = true)\n",
      " |-- _c12: integer (nullable = true)\n",
      " |-- _c13: integer (nullable = true)\n",
      " |-- _c14: integer (nullable = true)\n",
      " |-- _c15: integer (nullable = true)\n",
      " |-- _c16: integer (nullable = true)\n",
      " |-- _c17: integer (nullable = true)\n",
      " |-- _c18: integer (nullable = true)\n",
      " |-- _c19: integer (nullable = true)\n",
      " |-- _c20: integer (nullable = true)\n",
      " |-- _c21: integer (nullable = true)\n",
      " |-- _c22: integer (nullable = true)\n",
      " |-- _c23: integer (nullable = true)\n",
      " |-- _c24: integer (nullable = true)\n",
      " |-- _c25: integer (nullable = true)\n",
      " |-- _c26: integer (nullable = true)\n",
      " |-- _c27: integer (nullable = true)\n",
      " |-- _c28: integer (nullable = true)\n",
      " |-- _c29: integer (nullable = true)\n",
      " |-- _c30: integer (nullable = true)\n",
      " |-- _c31: integer (nullable = true)\n",
      " |-- _c32: integer (nullable = true)\n",
      " |-- _c33: integer (nullable = true)\n",
      " |-- _c34: integer (nullable = true)\n",
      " |-- _c35: integer (nullable = true)\n",
      " |-- _c36: integer (nullable = true)\n",
      " |-- _c37: integer (nullable = true)\n",
      " |-- _c38: integer (nullable = true)\n",
      " |-- _c39: integer (nullable = true)\n",
      " |-- _c40: integer (nullable = true)\n",
      " |-- _c41: integer (nullable = true)\n",
      " |-- _c42: integer (nullable = true)\n",
      " |-- _c43: integer (nullable = true)\n",
      " |-- _c44: integer (nullable = true)\n",
      " |-- _c45: integer (nullable = true)\n",
      " |-- _c46: integer (nullable = true)\n",
      " |-- _c47: integer (nullable = true)\n",
      " |-- _c48: integer (nullable = true)\n",
      " |-- _c49: integer (nullable = true)\n",
      " |-- _c50: integer (nullable = true)\n",
      " |-- _c51: integer (nullable = true)\n",
      " |-- _c52: integer (nullable = true)\n",
      " |-- _c53: integer (nullable = true)\n",
      " |-- _c54: integer (nullable = true)\n"
     ]
    }
   ],
   "source": [
    "dataWithoutHeader.printSchema()"
   ]
  },
  {
   "cell_type": "code",
   "execution_count": 5,
   "metadata": {},
   "outputs": [
    {
     "data": {
      "text/plain": [
       "colNames = List(Elevation, Aspect, Slope, Horizontal_Distance_To_Hydrology, Vertical_Distance_To_Hydrology, Horizontal_Distance_To_Roadways, Hillshae_9am, Hillshae_Noon, Hillshade_3pm, Horizontal_Distance_To_Fire_Points, Wilderness_Area_0, Wilderness_Area_1, Wilderness_Area_2, Wilderness_Area_3, Soil_Type_0, Soil_Type_1, Soil_Type_2, Soil_Type_3, Soil_Type_4, Soil_Type_5, Soil_Type_6, Soil_Type_7, Soil_Type_8, Soil_Type_9, Soil_Type_10, Soil_Type_11, Soil_Type_12, Soil_Type_13, Soil_Type_14, Soil_Type_15, Soil_Type_16, Soil_Type_17, Soil_Type_18, Soil_Type_19, Soil_Type_20, Soil_Type_21, Soil_Type_22, Soil_Type_23, Soil_Type_24, Soil_Type_25, Soil_Type_26, Soil_Type_27, Soil_Type_28, Soil_Type_29, Soil_Type_30, Soil_Type_31, Soil_Type_32, Soil_Type_33, Soil_Type_34, Soil_Ty...\n"
      ]
     },
     "metadata": {},
     "output_type": "display_data"
    },
    {
     "data": {
      "text/plain": [
       "List(Elevation, Aspect, Slope, Horizontal_Distance_To_Hydrology, Vertical_Distance_To_Hydrology, Horizontal_Distance_To_Roadways, Hillshae_9am, Hillshae_Noon, Hillshade_3pm, Horizontal_Distance_To_Fire_Points, Wilderness_Area_0, Wilderness_Area_1, Wilderness_Area_2, Wilderness_Area_3, Soil_Type_0, Soil_Type_1, Soil_Type_2, Soil_Type_3, Soil_Type_4, Soil_Type_5, Soil_Type_6, Soil_Type_7, Soil_Type_8, Soil_Type_9, Soil_Type_10, Soil_Type_11, Soil_Type_12, Soil_Type_13, Soil_Type_14, Soil_Type_15, Soil_Type_16, Soil_Type_17, Soil_Type_18, Soil_Type_19, Soil_Type_20, Soil_Type_21, Soil_Type_22, Soil_Type_23, Soil_Type_24, Soil_Type_25, Soil_Type_26, Soil_Type_27, Soil_Type_28, Soil_Type_29, Soil_Type_30, Soil_Type_31, Soil_Type_32, Soil_Type_33, Soil_Type_34, Soil_Type_35, Soil_Type_36, Soil_Type_37, Soil_Type_38, Soil_Type_39, Cover_Type)"
      ]
     },
     "execution_count": 5,
     "metadata": {},
     "output_type": "execute_result"
    }
   ],
   "source": [
    "val colNames = Seq(\n",
    "        \"Elevation\",\"Aspect\",\"Slope\",\"Horizontal_Distance_To_Hydrology\",\"Vertical_Distance_To_Hydrology\",\n",
    "        \"Horizontal_Distance_To_Roadways\",\"Hillshae_9am\",\"Hillshae_Noon\",\"Hillshade_3pm\",\n",
    "        \"Horizontal_Distance_To_Fire_Points\"\n",
    "    ) ++ (\n",
    "     (0 until 4).map(i => s\"Wilderness_Area_$i\")\n",
    "    ) ++ (\n",
    "     (0 until 40).map(i => s\"Soil_Type_$i\")\n",
    "    ) ++ Seq(\"Cover_Type\")"
   ]
  },
  {
   "cell_type": "code",
   "execution_count": 6,
   "metadata": {},
   "outputs": [
    {
     "data": {
      "text/plain": [
       "spark = org.apache.spark.sql.SparkSession@550c26b5\n"
      ]
     },
     "metadata": {},
     "output_type": "display_data"
    },
    {
     "data": {
      "text/html": [
       "<ul>\n",
       "<li><a href=\"Some(http://74107bd78b99:4040)\" target=\"new_tab\">Spark UI: local-1538487096899</a></li>\n",
       "</ul>"
      ],
      "text/plain": [
       "Spark local-1538487096899: Some(http://74107bd78b99:4040)"
      ]
     },
     "execution_count": 6,
     "metadata": {},
     "output_type": "execute_result"
    }
   ],
   "source": [
    "val spark = SparkSession.builder().getOrCreate()\n",
    "import spark.implicits._"
   ]
  },
  {
   "cell_type": "code",
   "execution_count": 7,
   "metadata": {},
   "outputs": [
    {
     "data": {
      "text/plain": [
       "data = [Elevation: int, Aspect: int ... 53 more fields]\n"
      ]
     },
     "metadata": {},
     "output_type": "display_data"
    },
    {
     "data": {
      "text/plain": [
       "[Elevation: int, Aspect: int ... 53 more fields]"
      ]
     },
     "execution_count": 7,
     "metadata": {},
     "output_type": "execute_result"
    }
   ],
   "source": [
    "val data = dataWithoutHeader.toDF(colNames:_*).\n",
    "    withColumn(\"Cover_Type\", $\"Cover_Type\".cast(\"double\"))"
   ]
  },
  {
   "cell_type": "code",
   "execution_count": 8,
   "metadata": {},
   "outputs": [
    {
     "name": "stdout",
     "output_type": "stream",
     "text": [
      "root\n",
      " |-- Elevation: integer (nullable = true)\n",
      " |-- Aspect: integer (nullable = true)\n",
      " |-- Slope: integer (nullable = true)\n",
      " |-- Horizontal_Distance_To_Hydrology: integer (nullable = true)\n",
      " |-- Vertical_Distance_To_Hydrology: integer (nullable = true)\n",
      " |-- Horizontal_Distance_To_Roadways: integer (nullable = true)\n",
      " |-- Hillshae_9am: integer (nullable = true)\n",
      " |-- Hillshae_Noon: integer (nullable = true)\n",
      " |-- Hillshade_3pm: integer (nullable = true)\n",
      " |-- Horizontal_Distance_To_Fire_Points: integer (nullable = true)\n",
      " |-- Wilderness_Area_0: integer (nullable = true)\n",
      " |-- Wilderness_Area_1: integer (nullable = true)\n",
      " |-- Wilderness_Area_2: integer (nullable = true)\n",
      " |-- Wilderness_Area_3: integer (nullable = true)\n",
      " |-- Soil_Type_0: integer (nullable = true)\n",
      " |-- Soil_Type_1: integer (nullable = true)\n",
      " |-- Soil_Type_2: integer (nullable = true)\n",
      " |-- Soil_Type_3: integer (nullable = true)\n",
      " |-- Soil_Type_4: integer (nullable = true)\n",
      " |-- Soil_Type_5: integer (nullable = true)\n",
      " |-- Soil_Type_6: integer (nullable = true)\n",
      " |-- Soil_Type_7: integer (nullable = true)\n",
      " |-- Soil_Type_8: integer (nullable = true)\n",
      " |-- Soil_Type_9: integer (nullable = true)\n",
      " |-- Soil_Type_10: integer (nullable = true)\n",
      " |-- Soil_Type_11: integer (nullable = true)\n",
      " |-- Soil_Type_12: integer (nullable = true)\n",
      " |-- Soil_Type_13: integer (nullable = true)\n",
      " |-- Soil_Type_14: integer (nullable = true)\n",
      " |-- Soil_Type_15: integer (nullable = true)\n",
      " |-- Soil_Type_16: integer (nullable = true)\n",
      " |-- Soil_Type_17: integer (nullable = true)\n",
      " |-- Soil_Type_18: integer (nullable = true)\n",
      " |-- Soil_Type_19: integer (nullable = true)\n",
      " |-- Soil_Type_20: integer (nullable = true)\n",
      " |-- Soil_Type_21: integer (nullable = true)\n",
      " |-- Soil_Type_22: integer (nullable = true)\n",
      " |-- Soil_Type_23: integer (nullable = true)\n",
      " |-- Soil_Type_24: integer (nullable = true)\n",
      " |-- Soil_Type_25: integer (nullable = true)\n",
      " |-- Soil_Type_26: integer (nullable = true)\n",
      " |-- Soil_Type_27: integer (nullable = true)\n",
      " |-- Soil_Type_28: integer (nullable = true)\n",
      " |-- Soil_Type_29: integer (nullable = true)\n",
      " |-- Soil_Type_30: integer (nullable = true)\n",
      " |-- Soil_Type_31: integer (nullable = true)\n",
      " |-- Soil_Type_32: integer (nullable = true)\n",
      " |-- Soil_Type_33: integer (nullable = true)\n",
      " |-- Soil_Type_34: integer (nullable = true)\n",
      " |-- Soil_Type_35: integer (nullable = true)\n",
      " |-- Soil_Type_36: integer (nullable = true)\n",
      " |-- Soil_Type_37: integer (nullable = true)\n",
      " |-- Soil_Type_38: integer (nullable = true)\n",
      " |-- Soil_Type_39: integer (nullable = true)\n",
      " |-- Cover_Type: double (nullable = true)\n",
      "\n"
     ]
    }
   ],
   "source": [
    "data.printSchema"
   ]
  },
  {
   "cell_type": "code",
   "execution_count": 9,
   "metadata": {},
   "outputs": [
    {
     "data": {
      "text/plain": [
       "trainData = [Elevation: int, Aspect: int ... 53 more fields]\n",
       "testData = [Elevation: int, Aspect: int ... 53 more fields]\n"
      ]
     },
     "metadata": {},
     "output_type": "display_data"
    },
    {
     "data": {
      "text/plain": [
       "[Elevation: int, Aspect: int ... 53 more fields]"
      ]
     },
     "execution_count": 9,
     "metadata": {},
     "output_type": "execute_result"
    }
   ],
   "source": [
    "val Array(trainData, testData) = data.randomSplit(Array(0.9,0.1))\n",
    "trainData.cache()\n",
    "testData.cache()"
   ]
  },
  {
   "cell_type": "code",
   "execution_count": 10,
   "metadata": {},
   "outputs": [
    {
     "data": {
      "text/plain": [
       "inputCols = Array(Elevation, Aspect, Slope, Horizontal_Distance_To_Hydrology, Vertical_Distance_To_Hydrology, Horizontal_Distance_To_Roadways, Hillshae_9am, Hillshae_Noon, Hillshade_3pm, Horizontal_Distance_To_Fire_Points, Wilderness_Area_0, Wilderness_Area_1, Wilderness_Area_2, Wilderness_Area_3, Soil_Type_0, Soil_Type_1, Soil_Type_2, Soil_Type_3, Soil_Type_4, Soil_Type_5, Soil_Type_6, Soil_Type_7, Soil_Type_8, Soil_Type_9, Soil_Type_10, Soil_Type_11, Soil_Type_12, Soil_Type_13, Soil_Type_14, Soil_Type_15, Soil_Type_16, Soil_Type_17, Soil_Type_18, Soil_Type_19, Soil_Type_20, Soil_Type_21, Soil_Type_22, Soil_Type_23, Soil_Type_24, Soil_Type_25, Soil_Type_26, Soil_Type_27, Soil_Type_28, Soil_Type_29, Soil_Type_30, Soil_Type_31, Soil_Type_32, Soil_Type_33, Soil_Type_34, Soi...\n"
      ]
     },
     "metadata": {},
     "output_type": "display_data"
    },
    {
     "data": {
      "text/plain": [
       "[Elevation, Aspect, Slope, Horizontal_Distance_To_Hydrology, Vertical_Distance_To_Hydrology, Horizontal_Distance_To_Roadways, Hillshae_9am, Hillshae_Noon, Hillshade_3pm, Horizontal_Distance_To_Fire_Points, Wilderness_Area_0, Wilderness_Area_1, Wilderness_Area_2, Wilderness_Area_3, Soil_Type_0, Soil_Type_1, Soil_Type_2, Soil_Type_3, Soil_Type_4, Soil_Type_5, Soil_Type_6, Soil_Type_7, Soil_Type_8, Soil_Type_9, Soil_Type_10, Soil_Type_11, Soil_Type_12, Soil_Type_13, Soil_Type_14, Soil_Type_15, Soil_Type_16, Soil_Type_17, Soil_Type_18, Soil_Type_19, Soil_Type_20, Soil_Type_21, Soil_Type_22, Soil_Type_23, Soil_Type_24, Soil_Type_25, Soil_Type_26, Soil_Type_27, Soil_Type_28, Soil_Type_29, Soil_Type_30, Soil_Type_31, Soil_Type_32, Soil_Type_33, Soil_Type_34, Soil_Type_35, Soil_Type_36, Soil_Type_37, Soil_Type_38, Soil_Type_39]"
      ]
     },
     "execution_count": 10,
     "metadata": {},
     "output_type": "execute_result"
    }
   ],
   "source": [
    "val inputCols = trainData.columns.filter(_!=\"Cover_Type\")\n",
    "var assembler = new VectorAssembler().\n",
    "    setInputCols(inputCols).\n",
    "    setOutputCol(\"featureVector\")"
   ]
  },
  {
   "cell_type": "code",
   "execution_count": 11,
   "metadata": {},
   "outputs": [
    {
     "name": "stdout",
     "output_type": "stream",
     "text": [
      "+----------------------------------------------------------------------------------------------------+\n",
      "|featureVector                                                                                       |\n",
      "+----------------------------------------------------------------------------------------------------+\n",
      "|(54,[0,1,2,3,4,5,6,7,8,9,13,15],[1859.0,18.0,12.0,67.0,11.0,90.0,211.0,215.0,139.0,792.0,1.0,1.0])  |\n",
      "|(54,[0,1,2,3,4,5,6,7,8,9,13,15],[1860.0,18.0,13.0,95.0,15.0,90.0,210.0,213.0,138.0,780.0,1.0,1.0])  |\n",
      "|(54,[0,1,2,3,4,5,6,7,8,9,13,15],[1861.0,35.0,14.0,60.0,11.0,85.0,218.0,209.0,124.0,832.0,1.0,1.0])  |\n",
      "|(54,[0,1,2,3,4,5,6,7,8,9,13,15],[1863.0,37.0,17.0,120.0,18.0,90.0,217.0,202.0,115.0,769.0,1.0,1.0]) |\n",
      "|(54,[0,1,2,3,4,5,6,7,8,9,13,15],[1866.0,23.0,14.0,85.0,16.0,108.0,212.0,210.0,133.0,819.0,1.0,1.0]) |\n",
      "|(54,[0,1,2,3,4,5,6,7,8,9,13,15],[1868.0,27.0,16.0,67.0,17.0,95.0,212.0,204.0,125.0,859.0,1.0,1.0])  |\n",
      "|(54,[0,1,2,3,4,5,6,7,8,9,13,18],[1871.0,22.0,22.0,60.0,12.0,85.0,200.0,187.0,115.0,792.0,1.0,1.0])  |\n",
      "|(54,[0,1,2,3,4,5,6,7,8,9,13,15],[1871.0,36.0,19.0,134.0,26.0,120.0,215.0,194.0,107.0,797.0,1.0,1.0])|\n",
      "|(54,[0,1,2,3,4,5,6,7,8,9,13,15],[1871.0,37.0,19.0,120.0,29.0,90.0,216.0,195.0,107.0,759.0,1.0,1.0]) |\n",
      "|(54,[0,1,2,3,4,5,6,7,8,9,13,18],[1872.0,12.0,27.0,85.0,25.0,60.0,182.0,174.0,118.0,577.0,1.0,1.0])  |\n",
      "|(54,[0,1,2,3,4,5,6,7,8,9,13,15],[1872.0,27.0,16.0,95.0,22.0,124.0,212.0,205.0,126.0,847.0,1.0,1.0]) |\n",
      "|(54,[0,1,2,3,4,5,6,7,8,9,13,15],[1872.0,27.0,21.0,108.0,30.0,67.0,206.0,190.0,112.0,713.0,1.0,1.0]) |\n",
      "|(54,[0,1,2,3,4,5,6,7,8,9,13,14],[1872.0,35.0,21.0,120.0,18.0,85.0,213.0,189.0,104.0,797.0,1.0,1.0]) |\n",
      "|(54,[0,1,2,3,4,5,6,7,8,9,13,15],[1873.0,30.0,19.0,67.0,21.0,85.0,211.0,195.0,114.0,899.0,1.0,1.0])  |\n",
      "|(54,[0,1,2,5,6,7,8,9,13,18],[1874.0,18.0,14.0,90.0,208.0,209.0,135.0,793.0,1.0,1.0])                |\n",
      "|(54,[0,1,2,3,4,5,6,7,8,9,13,15],[1876.0,25.0,17.0,124.0,26.0,150.0,209.0,200.0,123.0,836.0,1.0,1.0])|\n",
      "|(54,[0,1,2,3,4,5,6,7,8,9,13,15],[1876.0,29.0,19.0,124.0,34.0,90.0,210.0,195.0,115.0,750.0,1.0,1.0]) |\n",
      "|(54,[0,1,2,3,4,5,6,7,8,9,13,15],[1877.0,19.0,18.0,85.0,25.0,108.0,204.0,199.0,127.0,886.0,1.0,1.0]) |\n",
      "|(54,[0,1,2,3,4,5,6,7,8,9,13,18],[1877.0,27.0,24.0,90.0,18.0,95.0,201.0,179.0,104.0,780.0,1.0,1.0])  |\n",
      "|(54,[0,1,2,3,4,5,6,7,8,9,13,15],[1877.0,28.0,22.0,127.0,35.0,85.0,205.0,185.0,107.0,706.0,1.0,1.0]) |\n",
      "+----------------------------------------------------------------------------------------------------+\n",
      "only showing top 20 rows\n",
      "\n"
     ]
    },
    {
     "data": {
      "text/plain": [
       "assembledTrainData = [Elevation: int, Aspect: int ... 54 more fields]\n"
      ]
     },
     "metadata": {},
     "output_type": "display_data"
    },
    {
     "data": {
      "text/plain": [
       "[Elevation: int, Aspect: int ... 54 more fields]"
      ]
     },
     "execution_count": 11,
     "metadata": {},
     "output_type": "execute_result"
    }
   ],
   "source": [
    "var assembledTrainData = assembler.transform(trainData)\n",
    "assembledTrainData.select(\"featureVector\").show(truncate=false)"
   ]
  },
  {
   "cell_type": "code",
   "execution_count": 12,
   "metadata": {},
   "outputs": [
    {
     "data": {
      "text/plain": [
       "classifier = dtc_afeeb7605f2b\n"
      ]
     },
     "metadata": {},
     "output_type": "display_data"
    },
    {
     "data": {
      "text/plain": [
       "dtc_afeeb7605f2b"
      ]
     },
     "execution_count": 12,
     "metadata": {},
     "output_type": "execute_result"
    }
   ],
   "source": [
    "var classifier = new DecisionTreeClassifier().\n",
    "    setSeed(Random.nextLong()).\n",
    "    setLabelCol(\"Cover_Type\").\n",
    "    setFeaturesCol(\"featureVector\").\n",
    "    setPredictionCol(\"prediction\")"
   ]
  },
  {
   "cell_type": "code",
   "execution_count": 13,
   "metadata": {},
   "outputs": [
    {
     "name": "stdout",
     "output_type": "stream",
     "text": [
      "DecisionTreeClassificationModel (uid=dtc_afeeb7605f2b) of depth 5 with 63 nodes\n",
      "  If (feature 0 <= 3049.5)\n",
      "   If (feature 0 <= 2555.5)\n",
      "    If (feature 10 <= 0.5)\n",
      "     If (feature 0 <= 2449.5)\n",
      "      If (feature 3 <= 15.0)\n",
      "       Predict: 4.0\n",
      "      Else (feature 3 > 15.0)\n",
      "       Predict: 3.0\n",
      "     Else (feature 0 > 2449.5)\n",
      "      If (feature 17 <= 0.5)\n",
      "       Predict: 2.0\n",
      "      Else (feature 17 > 0.5)\n",
      "       Predict: 3.0\n",
      "    Else (feature 10 > 0.5)\n",
      "     If (feature 9 <= 5463.5)\n",
      "      If (feature 22 <= 0.5)\n",
      "       Predict: 2.0\n",
      "      Else (feature 22 > 0.5)\n",
      "       Predict: 2.0\n",
      "     Else (feature 9 > 5463.5)\n",
      "      If (feature 5 <= 572.0)\n",
      "       Predict: 2.0\n",
      "      Else (feature 5 > 572.0)\n",
      "       Predict: 5.0\n",
      "   Else (feature 0 > 2555.5)\n",
      "    If (feature 0 <= 2956.5)\n",
      "     If (feature 15 <= 0.5)\n",
      "      If (feature 17 <= 0.5)\n",
      "       Predict: 2.0\n",
      "      Else (feature 17 > 0.5)\n",
      "       Predict: 3.0\n",
      "     Else (feature 15 > 0.5)\n",
      "      If (feature 9 <= 1427.5)\n",
      "       Predict: 3.0\n",
      "      Else (feature 9 > 1427.5)\n",
      "       Predict: 3.0\n",
      "    Else (feature 0 > 2956.5)\n",
      "     If (feature 3 <= 211.0)\n",
      "      If (feature 36 <= 0.5)\n",
      "       Predict: 2.0\n",
      "      Else (feature 36 > 0.5)\n",
      "       Predict: 1.0\n",
      "     Else (feature 3 > 211.0)\n",
      "      If (feature 7 <= 218.5)\n",
      "       Predict: 2.0\n",
      "      Else (feature 7 > 218.5)\n",
      "       Predict: 2.0\n",
      "  Else (feature 0 > 3049.5)\n",
      "   If (feature 0 <= 3315.5)\n",
      "    If (feature 7 <= 239.5)\n",
      "     If (feature 0 <= 3136.5)\n",
      "      If (feature 45 <= 0.5)\n",
      "       Predict: 1.0\n",
      "      Else (feature 45 > 0.5)\n",
      "       Predict: 2.0\n",
      "     Else (feature 0 > 3136.5)\n",
      "      If (feature 5 <= 1019.5)\n",
      "       Predict: 1.0\n",
      "      Else (feature 5 > 1019.5)\n",
      "       Predict: 1.0\n",
      "    Else (feature 7 > 239.5)\n",
      "     If (feature 3 <= 333.0)\n",
      "      If (feature 0 <= 3203.5)\n",
      "       Predict: 1.0\n",
      "      Else (feature 0 > 3203.5)\n",
      "       Predict: 1.0\n",
      "     Else (feature 3 > 333.0)\n",
      "      If (feature 0 <= 3203.5)\n",
      "       Predict: 2.0\n",
      "      Else (feature 0 > 3203.5)\n",
      "       Predict: 2.0\n",
      "   Else (feature 0 > 3315.5)\n",
      "    If (feature 12 <= 0.5)\n",
      "     If (feature 3 <= 296.0)\n",
      "      If (feature 6 <= 206.5)\n",
      "       Predict: 1.0\n",
      "      Else (feature 6 > 206.5)\n",
      "       Predict: 7.0\n",
      "     Else (feature 3 > 296.0)\n",
      "      If (feature 11 <= 0.5)\n",
      "       Predict: 1.0\n",
      "      Else (feature 11 > 0.5)\n",
      "       Predict: 1.0\n",
      "    Else (feature 12 > 0.5)\n",
      "     If (feature 45 <= 0.5)\n",
      "      If (feature 0 <= 3374.5)\n",
      "       Predict: 7.0\n",
      "      Else (feature 0 > 3374.5)\n",
      "       Predict: 7.0\n",
      "     Else (feature 45 > 0.5)\n",
      "      If (feature 5 <= 917.0)\n",
      "       Predict: 7.0\n",
      "      Else (feature 5 > 917.0)\n",
      "       Predict: 1.0\n",
      "\n"
     ]
    },
    {
     "data": {
      "text/plain": [
       "model = DecisionTreeClassificationModel (uid=dtc_afeeb7605f2b) of depth 5 with 63 nodes\n"
      ]
     },
     "metadata": {},
     "output_type": "display_data"
    },
    {
     "data": {
      "text/plain": [
       "DecisionTreeClassificationModel (uid=dtc_afeeb7605f2b) of depth 5 with 63 nodes"
      ]
     },
     "execution_count": 13,
     "metadata": {},
     "output_type": "execute_result"
    }
   ],
   "source": [
    "var model = classifier.fit(assembledTrainData)\n",
    "println(model.toDebugString)"
   ]
  },
  {
   "cell_type": "code",
   "execution_count": 14,
   "metadata": {},
   "outputs": [
    {
     "name": "stdout",
     "output_type": "stream",
     "text": [
      "(0.7869596411791475,Elevation)\n",
      "(0.039920067119428145,Horizontal_Distance_To_Hydrology)\n",
      "(0.031113994544377067,Hillshae_Noon)\n",
      "(0.030161930010014843,Soil_Type_3)\n",
      "(0.02726093146245442,Wilderness_Area_0)\n",
      "(0.024044208405017763,Soil_Type_1)\n",
      "(0.02319146702516172,Soil_Type_31)\n",
      "(0.012532249953920679,Horizontal_Distance_To_Roadways)\n",
      "(0.011140655100118852,Wilderness_Area_2)\n",
      "(0.005980226714491093,Soil_Type_22)\n",
      "(0.0028787848256090856,Wilderness_Area_1)\n",
      "(0.002552828953956752,Hillshae_9am)\n",
      "(0.001974745062831754,Horizontal_Distance_To_Fire_Points)\n",
      "(2.882696434702999E-4,Soil_Type_8)\n",
      "(0.0,Wilderness_Area_3)\n",
      "(0.0,Vertical_Distance_To_Hydrology)\n",
      "(0.0,Soil_Type_9)\n",
      "(0.0,Soil_Type_7)\n",
      "(0.0,Soil_Type_6)\n",
      "(0.0,Soil_Type_5)\n",
      "(0.0,Soil_Type_4)\n",
      "(0.0,Soil_Type_39)\n",
      "(0.0,Soil_Type_38)\n",
      "(0.0,Soil_Type_37)\n",
      "(0.0,Soil_Type_36)\n",
      "(0.0,Soil_Type_35)\n",
      "(0.0,Soil_Type_34)\n",
      "(0.0,Soil_Type_33)\n",
      "(0.0,Soil_Type_32)\n",
      "(0.0,Soil_Type_30)\n",
      "(0.0,Soil_Type_29)\n",
      "(0.0,Soil_Type_28)\n",
      "(0.0,Soil_Type_27)\n",
      "(0.0,Soil_Type_26)\n",
      "(0.0,Soil_Type_25)\n",
      "(0.0,Soil_Type_24)\n",
      "(0.0,Soil_Type_23)\n",
      "(0.0,Soil_Type_21)\n",
      "(0.0,Soil_Type_20)\n",
      "(0.0,Soil_Type_2)\n",
      "(0.0,Soil_Type_19)\n",
      "(0.0,Soil_Type_18)\n",
      "(0.0,Soil_Type_17)\n",
      "(0.0,Soil_Type_16)\n",
      "(0.0,Soil_Type_15)\n",
      "(0.0,Soil_Type_14)\n",
      "(0.0,Soil_Type_13)\n",
      "(0.0,Soil_Type_12)\n",
      "(0.0,Soil_Type_11)\n",
      "(0.0,Soil_Type_10)\n",
      "(0.0,Soil_Type_0)\n",
      "(0.0,Slope)\n",
      "(0.0,Hillshade_3pm)\n",
      "(0.0,Aspect)\n"
     ]
    }
   ],
   "source": [
    "model.featureImportances.toArray.zip(inputCols).\n",
    "    sorted.reverse.foreach(println)"
   ]
  },
  {
   "cell_type": "code",
   "execution_count": 15,
   "metadata": {},
   "outputs": [
    {
     "name": "stdout",
     "output_type": "stream",
     "text": [
      "+----------+----------+------------------------------------------------------------------------------------------------+\n",
      "|Cover_Type|prediction|probability                                                                                     |\n",
      "+----------+----------+------------------------------------------------------------------------------------------------+\n",
      "|3.0       |3.0       |[0.0,0.0,0.033393439212150634,0.631735904015535,0.05107843817185658,0.0,0.2837922186004577,0.0] |\n",
      "|3.0       |3.0       |[0.0,0.0,0.033393439212150634,0.631735904015535,0.05107843817185658,0.0,0.2837922186004577,0.0] |\n",
      "|3.0       |3.0       |[0.0,0.0,0.033393439212150634,0.631735904015535,0.05107843817185658,0.0,0.2837922186004577,0.0] |\n",
      "|6.0       |3.0       |[0.0,0.0,0.033393439212150634,0.631735904015535,0.05107843817185658,0.0,0.2837922186004577,0.0] |\n",
      "|3.0       |3.0       |[0.0,0.0,0.033393439212150634,0.631735904015535,0.05107843817185658,0.0,0.2837922186004577,0.0] |\n",
      "|3.0       |3.0       |[0.0,0.0,0.033393439212150634,0.631735904015535,0.05107843817185658,0.0,0.2837922186004577,0.0] |\n",
      "|6.0       |3.0       |[0.0,0.0,0.033393439212150634,0.631735904015535,0.05107843817185658,0.0,0.2837922186004577,0.0] |\n",
      "|6.0       |3.0       |[0.0,0.0,0.033393439212150634,0.631735904015535,0.05107843817185658,0.0,0.2837922186004577,0.0] |\n",
      "|6.0       |3.0       |[0.0,0.0,0.033393439212150634,0.631735904015535,0.05107843817185658,0.0,0.2837922186004577,0.0] |\n",
      "|6.0       |3.0       |[0.0,0.0,0.033393439212150634,0.631735904015535,0.05107843817185658,0.0,0.2837922186004577,0.0] |\n",
      "|3.0       |3.0       |[0.0,0.0,0.033393439212150634,0.631735904015535,0.05107843817185658,0.0,0.2837922186004577,0.0] |\n",
      "|6.0       |3.0       |[0.0,0.0,0.033393439212150634,0.631735904015535,0.05107843817185658,0.0,0.2837922186004577,0.0] |\n",
      "|6.0       |3.0       |[0.0,0.0,0.033393439212150634,0.631735904015535,0.05107843817185658,0.0,0.2837922186004577,0.0] |\n",
      "|3.0       |3.0       |[0.0,0.0,0.033393439212150634,0.631735904015535,0.05107843817185658,0.0,0.2837922186004577,0.0] |\n",
      "|6.0       |4.0       |[0.0,0.0,0.041758241758241756,0.2874725274725275,0.4356043956043956,0.0,0.23516483516483516,0.0]|\n",
      "|3.0       |3.0       |[0.0,0.0,0.033393439212150634,0.631735904015535,0.05107843817185658,0.0,0.2837922186004577,0.0] |\n",
      "|6.0       |3.0       |[0.0,0.0,0.033393439212150634,0.631735904015535,0.05107843817185658,0.0,0.2837922186004577,0.0] |\n",
      "|3.0       |3.0       |[0.0,0.0,0.033393439212150634,0.631735904015535,0.05107843817185658,0.0,0.2837922186004577,0.0] |\n",
      "|6.0       |3.0       |[0.0,0.0,0.033393439212150634,0.631735904015535,0.05107843817185658,0.0,0.2837922186004577,0.0] |\n",
      "|6.0       |3.0       |[0.0,0.0,0.033393439212150634,0.631735904015535,0.05107843817185658,0.0,0.2837922186004577,0.0] |\n",
      "+----------+----------+------------------------------------------------------------------------------------------------+\n",
      "only showing top 20 rows\n",
      "\n"
     ]
    },
    {
     "data": {
      "text/plain": [
       "predictions = [Elevation: int, Aspect: int ... 57 more fields]\n"
      ]
     },
     "metadata": {},
     "output_type": "display_data"
    },
    {
     "data": {
      "text/plain": [
       "[Elevation: int, Aspect: int ... 57 more fields]"
      ]
     },
     "execution_count": 15,
     "metadata": {},
     "output_type": "execute_result"
    }
   ],
   "source": [
    "var predictions = model.transform(assembledTrainData)\n",
    "predictions.select(\"Cover_Type\",\"prediction\",\"probability\").show(truncate= false)"
   ]
  },
  {
   "cell_type": "code",
   "execution_count": 16,
   "metadata": {},
   "outputs": [
    {
     "data": {
      "text/plain": [
       "evaluator = mcEval_8ee974a3672d\n"
      ]
     },
     "metadata": {},
     "output_type": "display_data"
    },
    {
     "data": {
      "text/plain": [
       "mcEval_8ee974a3672d"
      ]
     },
     "execution_count": 16,
     "metadata": {},
     "output_type": "execute_result"
    }
   ],
   "source": [
    "var evaluator = new MulticlassClassificationEvaluator().\n",
    "    setLabelCol(\"Cover_Type\").\n",
    "    setPredictionCol(\"prediction\")"
   ]
  },
  {
   "cell_type": "code",
   "execution_count": 17,
   "metadata": {},
   "outputs": [
    {
     "data": {
      "text/plain": [
       "accuracy = 0.7027188366975988\n"
      ]
     },
     "metadata": {},
     "output_type": "display_data"
    },
    {
     "data": {
      "text/plain": [
       "0.7027188366975988"
      ]
     },
     "execution_count": 17,
     "metadata": {},
     "output_type": "execute_result"
    }
   ],
   "source": [
    "var accuracy = evaluator.setMetricName(\"accuracy\").evaluate(predictions)"
   ]
  },
  {
   "cell_type": "code",
   "execution_count": 18,
   "metadata": {},
   "outputs": [
    {
     "name": "stdout",
     "output_type": "stream",
     "text": [
      "126669.0  58699.0   161.0    0.0    0.0   0.0  5042.0   \n",
      "45980.0   203635.0  4329.0   95.0   32.0  0.0  710.0    \n",
      "0.0       5744.0    25762.0  654.0  0.0   0.0  0.0      \n",
      "0.0       20.0      1473.0   991.0  0.0   0.0  0.0      \n",
      "3.0       7747.0    758.0    0.0    74.0  0.0  0.0      \n",
      "0.0       6201.0    8916.0   535.0  0.0   0.0  0.0      \n",
      "8019.0    200.0     56.0     0.0    0.0   0.0  10145.0  \n"
     ]
    },
    {
     "data": {
      "text/plain": [
       "predictionRDD = MapPartitionsRDD[82] at rdd at <console>:57\n",
       "multiclassMetrics = org.apache.spark.mllib.evaluation.MulticlassMetrics@53d74aad\n"
      ]
     },
     "metadata": {},
     "output_type": "display_data"
    },
    {
     "data": {
      "text/plain": [
       "org.apache.spark.mllib.evaluation.MulticlassMetrics@53d74aad"
      ]
     },
     "execution_count": 18,
     "metadata": {},
     "output_type": "execute_result"
    }
   ],
   "source": [
    "val predictionRDD = predictions.\n",
    "    select(\"prediction\",\"Cover_Type\").\n",
    "    as[(Double,Double)].rdd\n",
    "val multiclassMetrics = new MulticlassMetrics(predictionRDD)\n",
    "println(multiclassMetrics.confusionMatrix)"
   ]
  },
  {
   "cell_type": "code",
   "execution_count": 19,
   "metadata": {},
   "outputs": [
    {
     "data": {
      "text/plain": [
       "inputCols = Array(Elevation, Aspect, Slope, Horizontal_Distance_To_Hydrology, Vertical_Distance_To_Hydrology, Horizontal_Distance_To_Roadways, Hillshae_9am, Hillshae_Noon, Hillshade_3pm, Horizontal_Distance_To_Fire_Points, Wilderness_Area_0, Wilderness_Area_1, Wilderness_Area_2, Wilderness_Area_3, Soil_Type_0, Soil_Type_1, Soil_Type_2, Soil_Type_3, Soil_Type_4, Soil_Type_5, Soil_Type_6, Soil_Type_7, Soil_Type_8, Soil_Type_9, Soil_Type_10, Soil_Type_11, Soil_Type_12, Soil_Type_13, Soil_Type_14, Soil_Type_15, Soil_Type_16, Soil_Type_17, Soil_Type_18, Soil_Type_19, Soil_Type_20, Soil_Type_21, Soil_Type_22, Soil_Type_23, Soil_Type_24, Soil_Type_25, Soil_Type_26, Soil_Type_27, Soil_Type_28, Soil_Type_29, Soil_Type_30, Soil_Type_31, Soil_Type_32, Soil_Type_33, Soil_Type_34, Soi...\n"
      ]
     },
     "metadata": {},
     "output_type": "display_data"
    },
    {
     "data": {
      "text/plain": [
       "[Elevation, Aspect, Slope, Horizontal_Distance_To_Hydrology, Vertical_Distance_To_Hydrology, Horizontal_Distance_To_Roadways, Hillshae_9am, Hillshae_Noon, Hillshade_3pm, Horizontal_Distance_To_Fire_Points, Wilderness_Area_0, Wilderness_Area_1, Wilderness_Area_2, Wilderness_Area_3, Soil_Type_0, Soil_Type_1, Soil_Type_2, Soil_Type_3, Soil_Type_4, Soil_Type_5, Soil_Type_6, Soil_Type_7, Soil_Type_8, Soil_Type_9, Soil_Type_10, Soil_Type_11, Soil_Type_12, Soil_Type_13, Soil_Type_14, Soil_Type_15, Soil_Type_16, Soil_Type_17, Soil_Type_18, Soil_Type_19, Soil_Type_20, Soil_Type_21, Soil_Type_22, Soil_Type_23, Soil_Type_24, Soil_Type_25, Soil_Type_26, Soil_Type_27, Soil_Type_28, Soil_Type_29, Soil_Type_30, Soil_Type_31, Soil_Type_32, Soil_Type_33, Soil_Type_34, Soil_Type_35, Soil_Type_36, Soil_Type_37, Soil_Type_38, Soil_Type_39]"
      ]
     },
     "execution_count": 19,
     "metadata": {},
     "output_type": "execute_result"
    }
   ],
   "source": [
    "val inputCols = trainData.columns.filter(_!=\"Cover_Type\")\n",
    "var assembler = new VectorAssembler().\n",
    "    setInputCols(inputCols).\n",
    "    setOutputCol(\"featureVector\")\n",
    "var classifier = new DecisionTreeClassifier().\n",
    "    setSeed(Random.nextLong()).\n",
    "    setLabelCol(\"Cover_Type\").\n",
    "    setFeaturesCol(\"featureVector\").\n",
    "    setPredictionCol(\"prediction\")\n",
    "var pipeline = new Pipeline().setStages(Array(assembler, classifier))"
   ]
  },
  {
   "cell_type": "code",
   "execution_count": 20,
   "metadata": {},
   "outputs": [
    {
     "data": {
      "text/plain": [
       "paramGrid = \n"
      ]
     },
     "metadata": {},
     "output_type": "display_data"
    },
    {
     "data": {
      "text/plain": [
       "Array({\n",
       "\tdtc_65a78540e07a-impurity: entropy,\n",
       "\tdtc_65a78540e07a-maxBins: 40,\n",
       "\tdtc_65a78540e07a-maxDepth: 1,\n",
       "\tdtc_65a78540e07a-minInfoGain: 0.0\n",
       "}, {\n",
       "\tdtc_65a78540e07a-impurity: entropy,\n",
       "\tdtc_65a78540e07a-maxBins: 300,\n",
       "\tdtc_65a78540e07a-maxDepth: 1,\n",
       "\tdtc_65a78540e07a-minInfoGain: 0.0\n",
       "}, {\n",
       "\tdtc_65a78540e07a-impurity: entropy,\n",
       "\tdtc_65a78540e07a-maxBins: 40,\n",
       "\tdtc_65a78540e07a-maxDepth: 20,\n",
       "\tdtc_65a78540e07a-minInfoGain: 0.0\n",
       "}, {\n",
       "\tdtc_65a78540e07a-impurity: entropy,\n",
       "\tdtc_65a78540e07a-maxBins: 300,\n",
       "\tdtc_65a78540e07a-maxDepth: 20,\n",
       "\tdtc_65a78540e07a-minInfoGain: 0.0\n",
       "}, {\n",
       "\tdtc_65a78540e07a-impurity: entropy,\n",
       "\tdtc_65a78540e07a-maxBins: 40,\n",
       "\tdtc_65a78540e07a-maxDepth: 1,\n",
       "\tdtc_65a78540e07a-minInfoGain: 0.05\n",
       "}, {\n",
       "\tdtc_65a78540e07a-impurity: entrop...\n"
      ]
     },
     "metadata": {},
     "output_type": "display_data"
    },
    {
     "data": {
      "text/plain": [
       "[{\n",
       "\tdtc_65a78540e07a-impurity: entropy,\n",
       "\tdtc_65a78540e07a-maxBins: 40,\n",
       "\tdtc_65a78540e07a-maxDepth: 1,\n",
       "\tdtc_65a78540e07a-minInfoGain: 0.0\n",
       "}, {\n",
       "\tdtc_65a78540e07a-impurity: entropy,\n",
       "\tdtc_65a78540e07a-maxBins: 300,\n",
       "\tdtc_65a78540e07a-maxDepth: 1,\n",
       "\tdtc_65a78540e07a-minInfoGain: 0.0\n",
       "}, {\n",
       "\tdtc_65a78540e07a-impurity: entropy,\n",
       "\tdtc_65a78540e07a-maxBins: 40,\n",
       "\tdtc_65a78540e07a-maxDepth: 20,\n",
       "\tdtc_65a78540e07a-minInfoGain: 0.0\n",
       "}, {\n",
       "\tdtc_65a78540e07a-impurity: entropy,\n",
       "\tdtc_65a78540e07a-maxBins: 300,\n",
       "\tdtc_65a78540e07a-maxDepth: 20,\n",
       "\tdtc_65a78540e07a-minInfoGain: 0.0\n",
       "}, {\n",
       "\tdtc_65a78540e07a-impurity: entropy,\n",
       "\tdtc_65a78540e07a-maxBins: 40,\n",
       "\tdtc_65a78540e07a-maxDepth: 1,\n",
       "\tdtc_65a78540e07a-minInfoGain: 0.05\n",
       "}, {\n",
       "\tdtc_65a78540e07a-impurity: entropy,\n",
       "\tdtc_65a78540e07a-maxBins: 300,\n",
       "\tdtc_65a78540e07a-maxDepth: 1,\n",
       "\tdtc_65a78540e07a-minInfoGain: 0.05\n",
       "}, {\n",
       "\tdtc_65a78540e07a-impurity: entropy,\n",
       "\tdtc_65a78540e07a-maxBins: 40,\n",
       "\tdtc_65a78540e07a-maxDepth: 20,\n",
       "\tdtc_65a78540e07a-minInfoGain: 0.05\n",
       "}, {\n",
       "\tdtc_65a78540e07a-impurity: entropy,\n",
       "\tdtc_65a78540e07a-maxBins: 300,\n",
       "\tdtc_65a78540e07a-maxDepth: 20,\n",
       "\tdtc_65a78540e07a-minInfoGain: 0.05\n",
       "}]"
      ]
     },
     "execution_count": 20,
     "metadata": {},
     "output_type": "execute_result"
    }
   ],
   "source": [
    "var paramGrid  = new ParamGridBuilder().\n",
    "    addGrid(classifier.impurity, Seq(\"entropy\")).\n",
    "    addGrid(classifier.maxDepth, Seq(1,20)).\n",
    "    addGrid(classifier.maxBins, Seq(40,300)).\n",
    "    addGrid(classifier.minInfoGain, Seq(0.0,0.05)).\n",
    "    build()\n",
    "\n",
    "var multiclassEval = new MulticlassClassificationEvaluator().\n",
    "    setLabelCol(\"Cover_Type\").\n",
    "    setPredictionCol(\"prediction\").\n",
    "    setMetricName(\"accuracy\")"
   ]
  },
  {
   "cell_type": "code",
   "execution_count": 21,
   "metadata": {},
   "outputs": [
    {
     "data": {
      "text/plain": [
       "validator = tvs_e0dcf17a6c41\n"
      ]
     },
     "metadata": {},
     "output_type": "display_data"
    },
    {
     "data": {
      "text/plain": [
       "tvs_e0dcf17a6c41"
      ]
     },
     "execution_count": 21,
     "metadata": {},
     "output_type": "execute_result"
    }
   ],
   "source": [
    "var validator = new TrainValidationSplit().\n",
    "    setSeed(Random.nextLong()).\n",
    "    setEstimator(pipeline).\n",
    "    setEvaluator(multiclassEval).\n",
    "    setEstimatorParamMaps(paramGrid).\n",
    "    setTrainRatio(0.9)"
   ]
  },
  {
   "cell_type": "code",
   "execution_count": 22,
   "metadata": {},
   "outputs": [
    {
     "data": {
      "text/plain": [
       "validatorModel = tvs_e0dcf17a6c41\n"
      ]
     },
     "metadata": {},
     "output_type": "display_data"
    },
    {
     "data": {
      "text/plain": [
       "tvs_e0dcf17a6c41"
      ]
     },
     "execution_count": 22,
     "metadata": {},
     "output_type": "execute_result"
    }
   ],
   "source": [
    "var validatorModel = validator.fit(trainData)"
   ]
  },
  {
   "cell_type": "code",
   "execution_count": 23,
   "metadata": {},
   "outputs": [
    {
     "data": {
      "text/plain": [
       "bestModel = pipeline_7a06ee253309\n"
      ]
     },
     "metadata": {},
     "output_type": "display_data"
    },
    {
     "data": {
      "text/plain": [
       "{\n",
       "\tdtc_65a78540e07a-cacheNodeIds: false,\n",
       "\tdtc_65a78540e07a-checkpointInterval: 10,\n",
       "\tdtc_65a78540e07a-featuresCol: featureVector,\n",
       "\tdtc_65a78540e07a-impurity: entropy,\n",
       "\tdtc_65a78540e07a-labelCol: Cover_Type,\n",
       "\tdtc_65a78540e07a-maxBins: 300,\n",
       "\tdtc_65a78540e07a-maxDepth: 20,\n",
       "\tdtc_65a78540e07a-maxMemoryInMB: 256,\n",
       "\tdtc_65a78540e07a-minInfoGain: 0.0,\n",
       "\tdtc_65a78540e07a-minInstancesPerNode: 1,\n",
       "\tdtc_65a78540e07a-predictionCol: prediction,\n",
       "\tdtc_65a78540e07a-probabilityCol: probability,\n",
       "\tdtc_65a78540e07a-rawPredictionCol: rawPrediction,\n",
       "\tdtc_65a78540e07a-seed: 5722693384343268808\n",
       "}"
      ]
     },
     "execution_count": 23,
     "metadata": {},
     "output_type": "execute_result"
    }
   ],
   "source": [
    "val bestModel = validatorModel.bestModel\n",
    "bestModel.asInstanceOf[PipelineModel].stages.last.extractParamMap"
   ]
  },
  {
   "cell_type": "code",
   "execution_count": 24,
   "metadata": {},
   "outputs": [
    {
     "name": "stdout",
     "output_type": "stream",
     "text": [
      "0.9140595119712385\n",
      "{\n",
      "\tdtc_65a78540e07a-impurity: entropy,\n",
      "\tdtc_65a78540e07a-maxBins: 300,\n",
      "\tdtc_65a78540e07a-maxDepth: 20,\n",
      "\tdtc_65a78540e07a-minInfoGain: 0.0\n",
      "}\n",
      "\n",
      "0.9118794461867972\n",
      "{\n",
      "\tdtc_65a78540e07a-impurity: entropy,\n",
      "\tdtc_65a78540e07a-maxBins: 40,\n",
      "\tdtc_65a78540e07a-maxDepth: 20,\n",
      "\tdtc_65a78540e07a-minInfoGain: 0.0\n",
      "}\n",
      "\n",
      "0.7247380096381856\n",
      "{\n",
      "\tdtc_65a78540e07a-impurity: entropy,\n",
      "\tdtc_65a78540e07a-maxBins: 300,\n",
      "\tdtc_65a78540e07a-maxDepth: 20,\n",
      "\tdtc_65a78540e07a-minInfoGain: 0.05\n",
      "}\n",
      "\n",
      "0.7234184961370764\n",
      "{\n",
      "\tdtc_65a78540e07a-impurity: entropy,\n",
      "\tdtc_65a78540e07a-maxBins: 40,\n",
      "\tdtc_65a78540e07a-maxDepth: 20,\n",
      "\tdtc_65a78540e07a-minInfoGain: 0.05\n",
      "}\n",
      "\n",
      "0.49221678268186336\n",
      "{\n",
      "\tdtc_65a78540e07a-impurity: entropy,\n",
      "\tdtc_65a78540e07a-maxBins: 40,\n",
      "\tdtc_65a78540e07a-maxDepth: 1,\n",
      "\tdtc_65a78540e07a-minInfoGain: 0.0\n",
      "}\n",
      "\n",
      "0.49221678268186336\n",
      "{\n",
      "\tdtc_65a78540e07a-impurity: entropy,\n",
      "\tdtc_65a78540e07a-maxBins: 300,\n",
      "\tdtc_65a78540e07a-maxDepth: 1,\n",
      "\tdtc_65a78540e07a-minInfoGain: 0.0\n",
      "}\n",
      "\n",
      "0.49221678268186336\n",
      "{\n",
      "\tdtc_65a78540e07a-impurity: entropy,\n",
      "\tdtc_65a78540e07a-maxBins: 40,\n",
      "\tdtc_65a78540e07a-maxDepth: 1,\n",
      "\tdtc_65a78540e07a-minInfoGain: 0.05\n",
      "}\n",
      "\n",
      "0.49221678268186336\n",
      "{\n",
      "\tdtc_65a78540e07a-impurity: entropy,\n",
      "\tdtc_65a78540e07a-maxBins: 300,\n",
      "\tdtc_65a78540e07a-maxDepth: 1,\n",
      "\tdtc_65a78540e07a-minInfoGain: 0.05\n",
      "}\n",
      "\n"
     ]
    },
    {
     "data": {
      "text/plain": [
       "paramsAndMetrics = \n"
      ]
     },
     "metadata": {},
     "output_type": "display_data"
    },
    {
     "data": {
      "text/plain": [
       "Array((0.9140595119712385,{\n",
       "\tdtc_65a78540e07a-impurity: entropy,\n",
       "\tdtc_65a78540e07a-maxBins: 300,\n",
       "\tdtc_65a78540e07a-maxDepth: 20,\n",
       "\tdtc_65a78540e07a-minInfoGain: 0.0\n",
       "}), (0.9118794461867972,{\n",
       "\tdtc_65a78540e07a-impurity: entropy,\n",
       "\tdtc_65a78540e07a-maxBins: 40,\n",
       "\tdtc_65a78540e07a-maxDepth: 20,\n",
       "\tdtc_65a78540e07a-minInfoGain: 0.0\n",
       "}), (0.7247380096381856,{\n",
       "\tdtc_65a78540e07a-impurity: entropy,\n",
       "\tdtc_65a78540e07a-maxBins: 300,\n",
       "\tdtc_65a78540e07a-maxDepth: 20,\n",
       "\tdtc_65a78540e07a-minInfoGain: 0.05\n",
       "}), (0.7234184961370764,{\n",
       "\tdtc_65a78540e07a-impurity: entropy,\n",
       "\tdtc_65a78540e07a-maxBins: 40,\n",
       "\tdtc_65a78540e07a-maxDepth: 20,\n",
       "\tdtc_65a78540e07a-minInfoGain: 0.05\n",
       "}), (0.49221678268186336,{\n",
       "\tdtc_65a78540e07a-impurity: entropy,\n",
       "\tdtc_65a785...\n"
      ]
     },
     "metadata": {},
     "output_type": "display_data"
    },
    {
     "data": {
      "text/plain": [
       "[(0.9140595119712385,{\n",
       "\tdtc_65a78540e07a-impurity: entropy,\n",
       "\tdtc_65a78540e07a-maxBins: 300,\n",
       "\tdtc_65a78540e07a-maxDepth: 20,\n",
       "\tdtc_65a78540e07a-minInfoGain: 0.0\n",
       "}), (0.9118794461867972,{\n",
       "\tdtc_65a78540e07a-impurity: entropy,\n",
       "\tdtc_65a78540e07a-maxBins: 40,\n",
       "\tdtc_65a78540e07a-maxDepth: 20,\n",
       "\tdtc_65a78540e07a-minInfoGain: 0.0\n",
       "}), (0.7247380096381856,{\n",
       "\tdtc_65a78540e07a-impurity: entropy,\n",
       "\tdtc_65a78540e07a-maxBins: 300,\n",
       "\tdtc_65a78540e07a-maxDepth: 20,\n",
       "\tdtc_65a78540e07a-minInfoGain: 0.05\n",
       "}), (0.7234184961370764,{\n",
       "\tdtc_65a78540e07a-impurity: entropy,\n",
       "\tdtc_65a78540e07a-maxBins: 40,\n",
       "\tdtc_65a78540e07a-maxDepth: 20,\n",
       "\tdtc_65a78540e07a-minInfoGain: 0.05\n",
       "}), (0.49221678268186336,{\n",
       "\tdtc_65a78540e07a-impurity: entropy,\n",
       "\tdtc_65a78540e07a-maxBins: 40,\n",
       "\tdtc_65a78540e07a-maxDepth: 1,\n",
       "\tdtc_65a78540e07a-minInfoGain: 0.0\n",
       "}), (0.49221678268186336,{\n",
       "\tdtc_65a78540e07a-impurity: entropy,\n",
       "\tdtc_65a78540e07a-maxBins: 300,\n",
       "\tdtc_65a78540e07a-maxDepth: 1,\n",
       "\tdtc_65a78540e07a-minInfoGain: 0.0\n",
       "}), (0.49221678268186336,{\n",
       "\tdtc_65a78540e07a-impurity: entropy,\n",
       "\tdtc_65a78540e07a-maxBins: 40,\n",
       "\tdtc_65a78540e07a-maxDepth: 1,\n",
       "\tdtc_65a78540e07a-minInfoGain: 0.05\n",
       "}), (0.49221678268186336,{\n",
       "\tdtc_65a78540e07a-impurity: entropy,\n",
       "\tdtc_65a78540e07a-maxBins: 300,\n",
       "\tdtc_65a78540e07a-maxDepth: 1,\n",
       "\tdtc_65a78540e07a-minInfoGain: 0.05\n",
       "})]"
      ]
     },
     "execution_count": 24,
     "metadata": {},
     "output_type": "execute_result"
    }
   ],
   "source": [
    "val paramsAndMetrics = validatorModel.validationMetrics.\n",
    "zip(validatorModel.getEstimatorParamMaps).sortBy(-_._1)\n",
    "paramsAndMetrics.foreach{case(metric,params)=> \n",
    "println(metric)\n",
    "println(params)\n",
    "println()\n",
    "}"
   ]
  },
  {
   "cell_type": "code",
   "execution_count": 25,
   "metadata": {},
   "outputs": [
    {
     "data": {
      "text/plain": [
       "paramGrid = \n"
      ]
     },
     "metadata": {},
     "output_type": "display_data"
    },
    {
     "data": {
      "text/plain": [
       "Array({\n",
       "\tdtc_65a78540e07a-impurity: entropy,\n",
       "\tdtc_65a78540e07a-maxBins: 300,\n",
       "\tdtc_65a78540e07a-maxDepth: 20,\n",
       "\tdtc_65a78540e07a-minInfoGain: 0.0\n",
       "})\n"
      ]
     },
     "metadata": {},
     "output_type": "display_data"
    },
    {
     "data": {
      "text/plain": [
       "[{\n",
       "\tdtc_65a78540e07a-impurity: entropy,\n",
       "\tdtc_65a78540e07a-maxBins: 300,\n",
       "\tdtc_65a78540e07a-maxDepth: 20,\n",
       "\tdtc_65a78540e07a-minInfoGain: 0.0\n",
       "}]"
      ]
     },
     "execution_count": 25,
     "metadata": {},
     "output_type": "execute_result"
    }
   ],
   "source": [
    "var paramGrid  = new ParamGridBuilder().\n",
    "    addGrid(classifier.impurity, Seq(\"entropy\")).\n",
    "    addGrid(classifier.maxDepth, Seq(20)).\n",
    "    addGrid(classifier.maxBins, Seq(300)).\n",
    "    addGrid(classifier.minInfoGain, Seq(0.0)).\n",
    "    build()"
   ]
  },
  {
   "cell_type": "code",
   "execution_count": 26,
   "metadata": {},
   "outputs": [
    {
     "data": {
      "text/plain": [
       "validator = tvs_e5cc88cca230\n"
      ]
     },
     "metadata": {},
     "output_type": "display_data"
    },
    {
     "data": {
      "text/plain": [
       "tvs_e5cc88cca230"
      ]
     },
     "execution_count": 26,
     "metadata": {},
     "output_type": "execute_result"
    }
   ],
   "source": [
    "var validator = new TrainValidationSplit().\n",
    "    setSeed(Random.nextLong()).\n",
    "    setEstimator(pipeline).\n",
    "    setEvaluator(multiclassEval).\n",
    "    setEstimatorParamMaps(paramGrid)"
   ]
  },
  {
   "cell_type": "code",
   "execution_count": 28,
   "metadata": {},
   "outputs": [
    {
     "data": {
      "text/plain": [
       "goodModel = tvs_e5cc88cca230\n"
      ]
     },
     "metadata": {},
     "output_type": "display_data"
    },
    {
     "data": {
      "text/plain": [
       "lastException: Throwable = null\n"
      ]
     },
     "metadata": {},
     "output_type": "display_data"
    },
    {
     "data": {
      "text/plain": [
       "tvs_e5cc88cca230"
      ]
     },
     "execution_count": 28,
     "metadata": {},
     "output_type": "execute_result"
    }
   ],
   "source": [
    "var goodModel = validator.fit(trainData)"
   ]
  },
  {
   "cell_type": "code",
   "execution_count": 29,
   "metadata": {},
   "outputs": [
    {
     "data": {
      "text/plain": [
       "0.9143963537918509"
      ]
     },
     "execution_count": 29,
     "metadata": {},
     "output_type": "execute_result"
    }
   ],
   "source": [
    "multiclassEval.evaluate(goodModel.transform(testData))"
   ]
  }
 ],
 "metadata": {
  "kernelspec": {
   "display_name": "Apache Toree - Scala",
   "language": "scala",
   "name": "apache_toree_scala"
  },
  "language_info": {
   "codemirror_mode": "text/x-scala",
   "file_extension": ".scala",
   "mimetype": "text/x-scala",
   "name": "scala",
   "pygments_lexer": "scala",
   "version": "2.11.8"
  }
 },
 "nbformat": 4,
 "nbformat_minor": 2
}
